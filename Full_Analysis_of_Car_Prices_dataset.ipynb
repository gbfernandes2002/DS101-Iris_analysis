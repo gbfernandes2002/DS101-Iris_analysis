{
  "nbformat": 4,
  "nbformat_minor": 0,
  "metadata": {
    "colab": {
      "name": "Full Analysis of Car Prices dataset.ipynb",
      "version": "0.3.2",
      "provenance": [],
      "toc_visible": true,
      "include_colab_link": true
    },
    "kernelspec": {
      "name": "python3",
      "display_name": "Python 3"
    }
  },
  "cells": [
    {
      "cell_type": "markdown",
      "metadata": {
        "id": "view-in-github",
        "colab_type": "text"
      },
      "source": [
        "<a href=\"https://colab.research.google.com/github/gbfernandes2002/DS101-Iris_analysis/blob/master/Full_Analysis_of_Car_Prices_dataset.ipynb\" target=\"_parent\"><img src=\"https://colab.research.google.com/assets/colab-badge.svg\" alt=\"Open In Colab\"/></a>"
      ]
    },
    {
      "cell_type": "markdown",
      "metadata": {
        "id": "KvbPptTVU8GE",
        "colab_type": "text"
      },
      "source": [
        "# Full analysis of the used cars prices data set\n",
        "\n",
        "\n",
        "---\n",
        "## Mounting Google Drive to upload data \n",
        "---"
      ]
    },
    {
      "cell_type": "code",
      "metadata": {
        "id": "0RotEHWe_LBv",
        "colab_type": "code",
        "outputId": "bb3bcd25-d0a6-421a-cb37-2c1643a99769",
        "colab": {
          "base_uri": "https://localhost:8080/",
          "height": 122
        }
      },
      "source": [
        "from google.colab import drive\n",
        "drive.mount('/content/drive')"
      ],
      "execution_count": 1,
      "outputs": [
        {
          "output_type": "stream",
          "text": [
            "Go to this URL in a browser: https://accounts.google.com/o/oauth2/auth?client_id=947318989803-6bn6qk8qdgf4n4g3pfee6491hc0brc4i.apps.googleusercontent.com&redirect_uri=urn%3Aietf%3Awg%3Aoauth%3A2.0%3Aoob&scope=email%20https%3A%2F%2Fwww.googleapis.com%2Fauth%2Fdocs.test%20https%3A%2F%2Fwww.googleapis.com%2Fauth%2Fdrive%20https%3A%2F%2Fwww.googleapis.com%2Fauth%2Fdrive.photos.readonly%20https%3A%2F%2Fwww.googleapis.com%2Fauth%2Fpeopleapi.readonly&response_type=code\n",
            "\n",
            "Enter your authorization code:\n",
            "··········\n",
            "Mounted at /content/drive\n"
          ],
          "name": "stdout"
        }
      ]
    },
    {
      "cell_type": "code",
      "metadata": {
        "id": "aOuFhBR7_TNg",
        "colab_type": "code",
        "outputId": "c614ae2a-75aa-4fd7-b18d-89be33dde934",
        "colab": {
          "base_uri": "https://localhost:8080/",
          "height": 54
        }
      },
      "source": [
        "cd/content/drive/My\\ Drive/Cursos_Udemy/Data_Science_Bootcamp/part_5_advanced_statistical_methods_\\(machine_learning\\)/S35_L233"
      ],
      "execution_count": 2,
      "outputs": [
        {
          "output_type": "stream",
          "text": [
            "/content/drive/My Drive/Cursos_Udemy/Data_Science_Bootcamp/part_5_advanced_statistical_methods_(machine_learning)/S35_L233\n"
          ],
          "name": "stdout"
        }
      ]
    },
    {
      "cell_type": "markdown",
      "metadata": {
        "id": "Kyv2mxsNAA60",
        "colab_type": "text"
      },
      "source": [
        "---\n",
        "## Importing Libraries\n",
        "---"
      ]
    },
    {
      "cell_type": "code",
      "metadata": {
        "id": "gC5PYyxEAMZ-",
        "colab_type": "code",
        "colab": {}
      },
      "source": [
        "import pandas as pd\n",
        "import numpy as np\n",
        "import matplotlib.pyplot as plt\n",
        "import seaborn as sns\n",
        "sns.set()"
      ],
      "execution_count": 0,
      "outputs": []
    },
    {
      "cell_type": "markdown",
      "metadata": {
        "id": "zsHCvBy0_zhy",
        "colab_type": "text"
      },
      "source": [
        "---\n",
        "## Loading data set \n",
        "---"
      ]
    },
    {
      "cell_type": "code",
      "metadata": {
        "id": "1UgjWjXW_vmF",
        "colab_type": "code",
        "colab": {}
      },
      "source": [
        "data_raw = pd.read_csv('1.04. Real-life example.csv')"
      ],
      "execution_count": 0,
      "outputs": []
    },
    {
      "cell_type": "code",
      "metadata": {
        "id": "HL1SCAZCAbDG",
        "colab_type": "code",
        "outputId": "b007d9ce-2104-4377-f089-ec3b59ba3413",
        "colab": {
          "base_uri": "https://localhost:8080/",
          "height": 204
        }
      },
      "source": [
        "data_raw.head()"
      ],
      "execution_count": 5,
      "outputs": [
        {
          "output_type": "execute_result",
          "data": {
            "text/html": [
              "<div>\n",
              "<style scoped>\n",
              "    .dataframe tbody tr th:only-of-type {\n",
              "        vertical-align: middle;\n",
              "    }\n",
              "\n",
              "    .dataframe tbody tr th {\n",
              "        vertical-align: top;\n",
              "    }\n",
              "\n",
              "    .dataframe thead th {\n",
              "        text-align: right;\n",
              "    }\n",
              "</style>\n",
              "<table border=\"1\" class=\"dataframe\">\n",
              "  <thead>\n",
              "    <tr style=\"text-align: right;\">\n",
              "      <th></th>\n",
              "      <th>Brand</th>\n",
              "      <th>Price</th>\n",
              "      <th>Body</th>\n",
              "      <th>Mileage</th>\n",
              "      <th>EngineV</th>\n",
              "      <th>Engine Type</th>\n",
              "      <th>Registration</th>\n",
              "      <th>Year</th>\n",
              "      <th>Model</th>\n",
              "    </tr>\n",
              "  </thead>\n",
              "  <tbody>\n",
              "    <tr>\n",
              "      <th>0</th>\n",
              "      <td>BMW</td>\n",
              "      <td>4200.0</td>\n",
              "      <td>sedan</td>\n",
              "      <td>277</td>\n",
              "      <td>2.0</td>\n",
              "      <td>Petrol</td>\n",
              "      <td>yes</td>\n",
              "      <td>1991</td>\n",
              "      <td>320</td>\n",
              "    </tr>\n",
              "    <tr>\n",
              "      <th>1</th>\n",
              "      <td>Mercedes-Benz</td>\n",
              "      <td>7900.0</td>\n",
              "      <td>van</td>\n",
              "      <td>427</td>\n",
              "      <td>2.9</td>\n",
              "      <td>Diesel</td>\n",
              "      <td>yes</td>\n",
              "      <td>1999</td>\n",
              "      <td>Sprinter 212</td>\n",
              "    </tr>\n",
              "    <tr>\n",
              "      <th>2</th>\n",
              "      <td>Mercedes-Benz</td>\n",
              "      <td>13300.0</td>\n",
              "      <td>sedan</td>\n",
              "      <td>358</td>\n",
              "      <td>5.0</td>\n",
              "      <td>Gas</td>\n",
              "      <td>yes</td>\n",
              "      <td>2003</td>\n",
              "      <td>S 500</td>\n",
              "    </tr>\n",
              "    <tr>\n",
              "      <th>3</th>\n",
              "      <td>Audi</td>\n",
              "      <td>23000.0</td>\n",
              "      <td>crossover</td>\n",
              "      <td>240</td>\n",
              "      <td>4.2</td>\n",
              "      <td>Petrol</td>\n",
              "      <td>yes</td>\n",
              "      <td>2007</td>\n",
              "      <td>Q7</td>\n",
              "    </tr>\n",
              "    <tr>\n",
              "      <th>4</th>\n",
              "      <td>Toyota</td>\n",
              "      <td>18300.0</td>\n",
              "      <td>crossover</td>\n",
              "      <td>120</td>\n",
              "      <td>2.0</td>\n",
              "      <td>Petrol</td>\n",
              "      <td>yes</td>\n",
              "      <td>2011</td>\n",
              "      <td>Rav 4</td>\n",
              "    </tr>\n",
              "  </tbody>\n",
              "</table>\n",
              "</div>"
            ],
            "text/plain": [
              "           Brand    Price       Body  ...  Registration  Year         Model\n",
              "0            BMW   4200.0      sedan  ...           yes  1991           320\n",
              "1  Mercedes-Benz   7900.0        van  ...           yes  1999  Sprinter 212\n",
              "2  Mercedes-Benz  13300.0      sedan  ...           yes  2003         S 500\n",
              "3           Audi  23000.0  crossover  ...           yes  2007            Q7\n",
              "4         Toyota  18300.0  crossover  ...           yes  2011         Rav 4\n",
              "\n",
              "[5 rows x 9 columns]"
            ]
          },
          "metadata": {
            "tags": []
          },
          "execution_count": 5
        }
      ]
    },
    {
      "cell_type": "markdown",
      "metadata": {
        "id": "_LTC9o24M8Zq",
        "colab_type": "text"
      },
      "source": [
        ""
      ]
    },
    {
      "cell_type": "code",
      "metadata": {
        "id": "gOMfLqqyAxrN",
        "colab_type": "code",
        "outputId": "84c4bfbd-d94c-4239-90d1-fe634074415d",
        "colab": {
          "base_uri": "https://localhost:8080/",
          "height": 444
        }
      },
      "source": [
        "data_raw.describe(include='all')"
      ],
      "execution_count": 6,
      "outputs": [
        {
          "output_type": "execute_result",
          "data": {
            "text/html": [
              "<div>\n",
              "<style scoped>\n",
              "    .dataframe tbody tr th:only-of-type {\n",
              "        vertical-align: middle;\n",
              "    }\n",
              "\n",
              "    .dataframe tbody tr th {\n",
              "        vertical-align: top;\n",
              "    }\n",
              "\n",
              "    .dataframe thead th {\n",
              "        text-align: right;\n",
              "    }\n",
              "</style>\n",
              "<table border=\"1\" class=\"dataframe\">\n",
              "  <thead>\n",
              "    <tr style=\"text-align: right;\">\n",
              "      <th></th>\n",
              "      <th>Brand</th>\n",
              "      <th>Price</th>\n",
              "      <th>Body</th>\n",
              "      <th>Mileage</th>\n",
              "      <th>EngineV</th>\n",
              "      <th>Engine Type</th>\n",
              "      <th>Registration</th>\n",
              "      <th>Year</th>\n",
              "      <th>Model</th>\n",
              "    </tr>\n",
              "  </thead>\n",
              "  <tbody>\n",
              "    <tr>\n",
              "      <th>count</th>\n",
              "      <td>4345</td>\n",
              "      <td>4173.000000</td>\n",
              "      <td>4345</td>\n",
              "      <td>4345.000000</td>\n",
              "      <td>4195.000000</td>\n",
              "      <td>4345</td>\n",
              "      <td>4345</td>\n",
              "      <td>4345.000000</td>\n",
              "      <td>4345</td>\n",
              "    </tr>\n",
              "    <tr>\n",
              "      <th>unique</th>\n",
              "      <td>7</td>\n",
              "      <td>NaN</td>\n",
              "      <td>6</td>\n",
              "      <td>NaN</td>\n",
              "      <td>NaN</td>\n",
              "      <td>4</td>\n",
              "      <td>2</td>\n",
              "      <td>NaN</td>\n",
              "      <td>312</td>\n",
              "    </tr>\n",
              "    <tr>\n",
              "      <th>top</th>\n",
              "      <td>Volkswagen</td>\n",
              "      <td>NaN</td>\n",
              "      <td>sedan</td>\n",
              "      <td>NaN</td>\n",
              "      <td>NaN</td>\n",
              "      <td>Diesel</td>\n",
              "      <td>yes</td>\n",
              "      <td>NaN</td>\n",
              "      <td>E-Class</td>\n",
              "    </tr>\n",
              "    <tr>\n",
              "      <th>freq</th>\n",
              "      <td>936</td>\n",
              "      <td>NaN</td>\n",
              "      <td>1649</td>\n",
              "      <td>NaN</td>\n",
              "      <td>NaN</td>\n",
              "      <td>2019</td>\n",
              "      <td>3947</td>\n",
              "      <td>NaN</td>\n",
              "      <td>199</td>\n",
              "    </tr>\n",
              "    <tr>\n",
              "      <th>mean</th>\n",
              "      <td>NaN</td>\n",
              "      <td>19418.746935</td>\n",
              "      <td>NaN</td>\n",
              "      <td>161.237284</td>\n",
              "      <td>2.790734</td>\n",
              "      <td>NaN</td>\n",
              "      <td>NaN</td>\n",
              "      <td>2006.550058</td>\n",
              "      <td>NaN</td>\n",
              "    </tr>\n",
              "    <tr>\n",
              "      <th>std</th>\n",
              "      <td>NaN</td>\n",
              "      <td>25584.242620</td>\n",
              "      <td>NaN</td>\n",
              "      <td>105.705797</td>\n",
              "      <td>5.066437</td>\n",
              "      <td>NaN</td>\n",
              "      <td>NaN</td>\n",
              "      <td>6.719097</td>\n",
              "      <td>NaN</td>\n",
              "    </tr>\n",
              "    <tr>\n",
              "      <th>min</th>\n",
              "      <td>NaN</td>\n",
              "      <td>600.000000</td>\n",
              "      <td>NaN</td>\n",
              "      <td>0.000000</td>\n",
              "      <td>0.600000</td>\n",
              "      <td>NaN</td>\n",
              "      <td>NaN</td>\n",
              "      <td>1969.000000</td>\n",
              "      <td>NaN</td>\n",
              "    </tr>\n",
              "    <tr>\n",
              "      <th>25%</th>\n",
              "      <td>NaN</td>\n",
              "      <td>6999.000000</td>\n",
              "      <td>NaN</td>\n",
              "      <td>86.000000</td>\n",
              "      <td>1.800000</td>\n",
              "      <td>NaN</td>\n",
              "      <td>NaN</td>\n",
              "      <td>2003.000000</td>\n",
              "      <td>NaN</td>\n",
              "    </tr>\n",
              "    <tr>\n",
              "      <th>50%</th>\n",
              "      <td>NaN</td>\n",
              "      <td>11500.000000</td>\n",
              "      <td>NaN</td>\n",
              "      <td>155.000000</td>\n",
              "      <td>2.200000</td>\n",
              "      <td>NaN</td>\n",
              "      <td>NaN</td>\n",
              "      <td>2008.000000</td>\n",
              "      <td>NaN</td>\n",
              "    </tr>\n",
              "    <tr>\n",
              "      <th>75%</th>\n",
              "      <td>NaN</td>\n",
              "      <td>21700.000000</td>\n",
              "      <td>NaN</td>\n",
              "      <td>230.000000</td>\n",
              "      <td>3.000000</td>\n",
              "      <td>NaN</td>\n",
              "      <td>NaN</td>\n",
              "      <td>2012.000000</td>\n",
              "      <td>NaN</td>\n",
              "    </tr>\n",
              "    <tr>\n",
              "      <th>max</th>\n",
              "      <td>NaN</td>\n",
              "      <td>300000.000000</td>\n",
              "      <td>NaN</td>\n",
              "      <td>980.000000</td>\n",
              "      <td>99.990000</td>\n",
              "      <td>NaN</td>\n",
              "      <td>NaN</td>\n",
              "      <td>2016.000000</td>\n",
              "      <td>NaN</td>\n",
              "    </tr>\n",
              "  </tbody>\n",
              "</table>\n",
              "</div>"
            ],
            "text/plain": [
              "             Brand          Price   Body  ...  Registration         Year    Model\n",
              "count         4345    4173.000000   4345  ...          4345  4345.000000     4345\n",
              "unique           7            NaN      6  ...             2          NaN      312\n",
              "top     Volkswagen            NaN  sedan  ...           yes          NaN  E-Class\n",
              "freq           936            NaN   1649  ...          3947          NaN      199\n",
              "mean           NaN   19418.746935    NaN  ...           NaN  2006.550058      NaN\n",
              "std            NaN   25584.242620    NaN  ...           NaN     6.719097      NaN\n",
              "min            NaN     600.000000    NaN  ...           NaN  1969.000000      NaN\n",
              "25%            NaN    6999.000000    NaN  ...           NaN  2003.000000      NaN\n",
              "50%            NaN   11500.000000    NaN  ...           NaN  2008.000000      NaN\n",
              "75%            NaN   21700.000000    NaN  ...           NaN  2012.000000      NaN\n",
              "max            NaN  300000.000000    NaN  ...           NaN  2016.000000      NaN\n",
              "\n",
              "[11 rows x 9 columns]"
            ]
          },
          "metadata": {
            "tags": []
          },
          "execution_count": 6
        }
      ]
    },
    {
      "cell_type": "markdown",
      "metadata": {
        "id": "Q2aNoJZxLdZs",
        "colab_type": "text"
      },
      "source": [
        "---\n",
        "## Bivariate analysis on categorical variables \n",
        "---"
      ]
    },
    {
      "cell_type": "markdown",
      "metadata": {
        "id": "GDBUOtBtVSwb",
        "colab_type": "text"
      },
      "source": [
        "### \"Brand\" Variable"
      ]
    },
    {
      "cell_type": "code",
      "metadata": {
        "id": "Y9jiI5BBB8Nj",
        "colab_type": "code",
        "outputId": "b7dbdbf8-a3d6-4e18-9fe9-8405cbd3a9a2",
        "colab": {
          "base_uri": "https://localhost:8080/",
          "height": 266
        }
      },
      "source": [
        "brand_freq = pd.DataFrame(data = data_raw['Brand'].value_counts()).rename(columns={'Brand':'Frequency'})\n",
        "brand_freq['Price_mean'] = data_raw.groupby('Brand')['Price'].mean()\n",
        "brand_freq"
      ],
      "execution_count": 0,
      "outputs": [
        {
          "output_type": "execute_result",
          "data": {
            "text/html": [
              "<div>\n",
              "<style scoped>\n",
              "    .dataframe tbody tr th:only-of-type {\n",
              "        vertical-align: middle;\n",
              "    }\n",
              "\n",
              "    .dataframe tbody tr th {\n",
              "        vertical-align: top;\n",
              "    }\n",
              "\n",
              "    .dataframe thead th {\n",
              "        text-align: right;\n",
              "    }\n",
              "</style>\n",
              "<table border=\"1\" class=\"dataframe\">\n",
              "  <thead>\n",
              "    <tr style=\"text-align: right;\">\n",
              "      <th></th>\n",
              "      <th>Frequency</th>\n",
              "      <th>Price_mean</th>\n",
              "    </tr>\n",
              "  </thead>\n",
              "  <tbody>\n",
              "    <tr>\n",
              "      <th>Volkswagen</th>\n",
              "      <td>936</td>\n",
              "      <td>13125.267930</td>\n",
              "    </tr>\n",
              "    <tr>\n",
              "      <th>Mercedes-Benz</th>\n",
              "      <td>921</td>\n",
              "      <td>30608.048122</td>\n",
              "    </tr>\n",
              "    <tr>\n",
              "      <th>BMW</th>\n",
              "      <td>694</td>\n",
              "      <td>23525.368087</td>\n",
              "    </tr>\n",
              "    <tr>\n",
              "      <th>Toyota</th>\n",
              "      <td>541</td>\n",
              "      <td>22591.220287</td>\n",
              "    </tr>\n",
              "    <tr>\n",
              "      <th>Renault</th>\n",
              "      <td>469</td>\n",
              "      <td>8035.127018</td>\n",
              "    </tr>\n",
              "    <tr>\n",
              "      <th>Audi</th>\n",
              "      <td>457</td>\n",
              "      <td>18489.633484</td>\n",
              "    </tr>\n",
              "    <tr>\n",
              "      <th>Mitsubishi</th>\n",
              "      <td>327</td>\n",
              "      <td>11295.713003</td>\n",
              "    </tr>\n",
              "  </tbody>\n",
              "</table>\n",
              "</div>"
            ],
            "text/plain": [
              "               Frequency    Price_mean\n",
              "Volkswagen           936  13125.267930\n",
              "Mercedes-Benz        921  30608.048122\n",
              "BMW                  694  23525.368087\n",
              "Toyota               541  22591.220287\n",
              "Renault              469   8035.127018\n",
              "Audi                 457  18489.633484\n",
              "Mitsubishi           327  11295.713003"
            ]
          },
          "metadata": {
            "tags": []
          },
          "execution_count": 50
        }
      ]
    },
    {
      "cell_type": "markdown",
      "metadata": {
        "id": "kOTxKVQXVXuz",
        "colab_type": "text"
      },
      "source": [
        "### \"Engine Type\" variable"
      ]
    },
    {
      "cell_type": "code",
      "metadata": {
        "id": "I2_g6EqtLtPt",
        "colab_type": "code",
        "outputId": "c7c255bc-3962-411f-d49f-bcfe19e99556",
        "colab": {
          "base_uri": "https://localhost:8080/",
          "height": 173
        }
      },
      "source": [
        "EngineT_freq = pd.DataFrame(data = data_raw['Engine Type'].value_counts()).rename(columns={'Engine Type':'Frequency'})\n",
        "EngineT_freq['Price_mean'] = data_raw.groupby('Engine Type')['Price'].mean()\n",
        "EngineT_freq"
      ],
      "execution_count": 0,
      "outputs": [
        {
          "output_type": "execute_result",
          "data": {
            "text/html": [
              "<div>\n",
              "<style scoped>\n",
              "    .dataframe tbody tr th:only-of-type {\n",
              "        vertical-align: middle;\n",
              "    }\n",
              "\n",
              "    .dataframe tbody tr th {\n",
              "        vertical-align: top;\n",
              "    }\n",
              "\n",
              "    .dataframe thead th {\n",
              "        text-align: right;\n",
              "    }\n",
              "</style>\n",
              "<table border=\"1\" class=\"dataframe\">\n",
              "  <thead>\n",
              "    <tr style=\"text-align: right;\">\n",
              "      <th></th>\n",
              "      <th>Frequency</th>\n",
              "      <th>Price_mean</th>\n",
              "    </tr>\n",
              "  </thead>\n",
              "  <tbody>\n",
              "    <tr>\n",
              "      <th>Diesel</th>\n",
              "      <td>2019</td>\n",
              "      <td>20203.661177</td>\n",
              "    </tr>\n",
              "    <tr>\n",
              "      <th>Petrol</th>\n",
              "      <td>1559</td>\n",
              "      <td>21604.213765</td>\n",
              "    </tr>\n",
              "    <tr>\n",
              "      <th>Gas</th>\n",
              "      <td>613</td>\n",
              "      <td>12213.170132</td>\n",
              "    </tr>\n",
              "    <tr>\n",
              "      <th>Other</th>\n",
              "      <td>154</td>\n",
              "      <td>16512.686667</td>\n",
              "    </tr>\n",
              "  </tbody>\n",
              "</table>\n",
              "</div>"
            ],
            "text/plain": [
              "        Frequency    Price_mean\n",
              "Diesel       2019  20203.661177\n",
              "Petrol       1559  21604.213765\n",
              "Gas           613  12213.170132\n",
              "Other         154  16512.686667"
            ]
          },
          "metadata": {
            "tags": []
          },
          "execution_count": 56
        }
      ]
    },
    {
      "cell_type": "markdown",
      "metadata": {
        "id": "ESJot3LXVdMj",
        "colab_type": "text"
      },
      "source": [
        "### \"Registration\" variable"
      ]
    },
    {
      "cell_type": "code",
      "metadata": {
        "id": "-94dy--WNA2V",
        "colab_type": "code",
        "outputId": "ff98e4e7-3197-4d80-ccab-1bbb4e9871cf",
        "colab": {
          "base_uri": "https://localhost:8080/",
          "height": 111
        }
      },
      "source": [
        "registration_freq = pd.DataFrame(data = data_raw['Registration'].value_counts()).rename(columns={'Registration':'Frequency'})\n",
        "registration_freq['Price_mean'] = data_raw.groupby('Registration')['Price'].mean()\n",
        "registration_freq"
      ],
      "execution_count": 0,
      "outputs": [
        {
          "output_type": "execute_result",
          "data": {
            "text/html": [
              "<div>\n",
              "<style scoped>\n",
              "    .dataframe tbody tr th:only-of-type {\n",
              "        vertical-align: middle;\n",
              "    }\n",
              "\n",
              "    .dataframe tbody tr th {\n",
              "        vertical-align: top;\n",
              "    }\n",
              "\n",
              "    .dataframe thead th {\n",
              "        text-align: right;\n",
              "    }\n",
              "</style>\n",
              "<table border=\"1\" class=\"dataframe\">\n",
              "  <thead>\n",
              "    <tr style=\"text-align: right;\">\n",
              "      <th></th>\n",
              "      <th>Frequency</th>\n",
              "      <th>Price_mean</th>\n",
              "    </tr>\n",
              "  </thead>\n",
              "  <tbody>\n",
              "    <tr>\n",
              "      <th>yes</th>\n",
              "      <td>3947</td>\n",
              "      <td>21002.942831</td>\n",
              "    </tr>\n",
              "    <tr>\n",
              "      <th>no</th>\n",
              "      <td>398</td>\n",
              "      <td>4224.137056</td>\n",
              "    </tr>\n",
              "  </tbody>\n",
              "</table>\n",
              "</div>"
            ],
            "text/plain": [
              "     Frequency    Price_mean\n",
              "yes       3947  21002.942831\n",
              "no         398   4224.137056"
            ]
          },
          "metadata": {
            "tags": []
          },
          "execution_count": 73
        }
      ]
    },
    {
      "cell_type": "code",
      "metadata": {
        "id": "TbIMLBBeNZM4",
        "colab_type": "code",
        "outputId": "9c5f9afa-cb47-4082-db27-781f54a64820",
        "colab": {
          "base_uri": "https://localhost:8080/",
          "height": 270
        }
      },
      "source": [
        "bins = np.linspace(1990, 2017, 27)\n",
        "\n",
        "plt.hist(data_raw[data_raw['Registration']=='yes'].Year, bins, alpha=0.5, label='x')\n",
        "plt.hist(data_raw[data_raw['Registration']=='no'].Year, bins, alpha=0.5, label='y')\n",
        "plt.legend(loc='upper right')\n",
        "plt.show()"
      ],
      "execution_count": 81,
      "outputs": [
        {
          "output_type": "display_data",
          "data": {
            "image/png": "[encoded data removed]",
            "text/plain": [
              "<Figure size 432x288 with 1 Axes>"
            ]
          },
          "metadata": {
            "tags": []
          }
        }
      ]
    },
    {
      "cell_type": "markdown",
      "metadata": {
        "id": "q1FSe6JCUV93",
        "colab_type": "text"
      },
      "source": [
        "> Question:\n",
        "> Can the effect of the variable \"Registration\" be captured by \"Year\"? "
      ]
    },
    {
      "cell_type": "code",
      "metadata": {
        "id": "B58ZEJN5SCkN",
        "colab_type": "code",
        "outputId": "f018c8e2-fb0f-45c8-e357-9335408915b4",
        "colab": {
          "base_uri": "https://localhost:8080/",
          "height": 111
        }
      },
      "source": [
        "data_raw_yearsel = data_raw[(data_raw['Year']>1998)&(data_raw['Year']<2004)]\n",
        "\n",
        "registration_freq_yearsel = pd.DataFrame(data = data_raw_yearsel['Registration'].value_counts()).rename(columns={'Registration':'Frequency'})\n",
        "registration_freq_yearsel['Price_mean'] = data_raw_yearsel.groupby('Registration')['Price'].mean()\n",
        "registration_freq_yearsel"
      ],
      "execution_count": 0,
      "outputs": [
        {
          "output_type": "execute_result",
          "data": {
            "text/html": [
              "<div>\n",
              "<style scoped>\n",
              "    .dataframe tbody tr th:only-of-type {\n",
              "        vertical-align: middle;\n",
              "    }\n",
              "\n",
              "    .dataframe tbody tr th {\n",
              "        vertical-align: top;\n",
              "    }\n",
              "\n",
              "    .dataframe thead th {\n",
              "        text-align: right;\n",
              "    }\n",
              "</style>\n",
              "<table border=\"1\" class=\"dataframe\">\n",
              "  <thead>\n",
              "    <tr style=\"text-align: right;\">\n",
              "      <th></th>\n",
              "      <th>Frequency</th>\n",
              "      <th>Price_mean</th>\n",
              "    </tr>\n",
              "  </thead>\n",
              "  <tbody>\n",
              "    <tr>\n",
              "      <th>yes</th>\n",
              "      <td>466</td>\n",
              "      <td>8701.690461</td>\n",
              "    </tr>\n",
              "    <tr>\n",
              "      <th>no</th>\n",
              "      <td>225</td>\n",
              "      <td>3276.215247</td>\n",
              "    </tr>\n",
              "  </tbody>\n",
              "</table>\n",
              "</div>"
            ],
            "text/plain": [
              "     Frequency   Price_mean\n",
              "yes        466  8701.690461\n",
              "no         225  3276.215247"
            ]
          },
          "metadata": {
            "tags": []
          },
          "execution_count": 72
        }
      ]
    },
    {
      "cell_type": "markdown",
      "metadata": {
        "id": "i6_dY7zzT3Cj",
        "colab_type": "text"
      },
      "source": [
        "> Conclusion: \n",
        "> The lower prices of \"Registration\" variable is not fully explained by the age of the vehicle. Hence, we will keep the variable in the analysis. "
      ]
    },
    {
      "cell_type": "markdown",
      "metadata": {
        "id": "AHZcNb1lViK5",
        "colab_type": "text"
      },
      "source": [
        "### \"Body\" variable"
      ]
    },
    {
      "cell_type": "code",
      "metadata": {
        "id": "MqmcTWGRJFZ1",
        "colab_type": "code",
        "outputId": "e618794f-bb0f-44ad-ab50-042d3e4cc469",
        "colab": {
          "base_uri": "https://localhost:8080/",
          "height": 235
        }
      },
      "source": [
        "body_freq = pd.DataFrame(data = data_raw['Body'].value_counts()).rename(columns={'Body':'Frequency'})\n",
        "body_freq['Price_mean'] = data_raw.groupby('Body')['Price'].mean()\n",
        "body_freq"
      ],
      "execution_count": 0,
      "outputs": [
        {
          "output_type": "execute_result",
          "data": {
            "text/html": [
              "<div>\n",
              "<style scoped>\n",
              "    .dataframe tbody tr th:only-of-type {\n",
              "        vertical-align: middle;\n",
              "    }\n",
              "\n",
              "    .dataframe tbody tr th {\n",
              "        vertical-align: top;\n",
              "    }\n",
              "\n",
              "    .dataframe thead th {\n",
              "        text-align: right;\n",
              "    }\n",
              "</style>\n",
              "<table border=\"1\" class=\"dataframe\">\n",
              "  <thead>\n",
              "    <tr style=\"text-align: right;\">\n",
              "      <th></th>\n",
              "      <th>Frequency</th>\n",
              "      <th>Price_mean</th>\n",
              "    </tr>\n",
              "  </thead>\n",
              "  <tbody>\n",
              "    <tr>\n",
              "      <th>sedan</th>\n",
              "      <td>1649</td>\n",
              "      <td>15577.630387</td>\n",
              "    </tr>\n",
              "    <tr>\n",
              "      <th>crossover</th>\n",
              "      <td>901</td>\n",
              "      <td>37899.192857</td>\n",
              "    </tr>\n",
              "    <tr>\n",
              "      <th>van</th>\n",
              "      <td>675</td>\n",
              "      <td>12641.511495</td>\n",
              "    </tr>\n",
              "    <tr>\n",
              "      <th>other</th>\n",
              "      <td>433</td>\n",
              "      <td>22471.287560</td>\n",
              "    </tr>\n",
              "    <tr>\n",
              "      <th>vagon</th>\n",
              "      <td>402</td>\n",
              "      <td>9973.878641</td>\n",
              "    </tr>\n",
              "    <tr>\n",
              "      <th>hatch</th>\n",
              "      <td>285</td>\n",
              "      <td>10085.765484</td>\n",
              "    </tr>\n",
              "  </tbody>\n",
              "</table>\n",
              "</div>"
            ],
            "text/plain": [
              "           Frequency    Price_mean\n",
              "sedan           1649  15577.630387\n",
              "crossover        901  37899.192857\n",
              "van              675  12641.511495\n",
              "other            433  22471.287560\n",
              "vagon            402   9973.878641\n",
              "hatch            285  10085.765484"
            ]
          },
          "metadata": {
            "tags": []
          },
          "execution_count": 51
        }
      ]
    },
    {
      "cell_type": "code",
      "metadata": {
        "id": "usycw_wEJ5LG",
        "colab_type": "code",
        "colab": {}
      },
      "source": [
        "body_freq.to_excel('output.xlsx')"
      ],
      "execution_count": 0,
      "outputs": []
    },
    {
      "cell_type": "markdown",
      "metadata": {
        "id": "JwKueLBYV3nG",
        "colab_type": "text"
      },
      "source": [
        "---\n",
        "\n",
        "## Cleaning the data set\n",
        "\n",
        "\n",
        "---\n"
      ]
    },
    {
      "cell_type": "markdown",
      "metadata": {
        "id": "ozIzeL6CLwFe",
        "colab_type": "text"
      },
      "source": [
        "### Dropping unnecessary variables"
      ]
    },
    {
      "cell_type": "markdown",
      "metadata": {
        "id": "Lhoi22fXMD3D",
        "colab_type": "text"
      },
      "source": [
        "We will drop the \"Model\" variable since it has too many different values and we are not going to work with string values more deeply than building dummies."
      ]
    },
    {
      "cell_type": "code",
      "metadata": {
        "id": "K4JBMMT-MmHW",
        "colab_type": "code",
        "colab": {}
      },
      "source": [
        "data_raw_1 = data_raw.drop('Model',axis=1)"
      ],
      "execution_count": 0,
      "outputs": []
    },
    {
      "cell_type": "markdown",
      "metadata": {
        "id": "lat1vNzXZCyF",
        "colab_type": "text"
      },
      "source": [
        "### Dropping observations with missing value in any variable"
      ]
    },
    {
      "cell_type": "code",
      "metadata": {
        "id": "AKjyPghyZCNF",
        "colab_type": "code",
        "colab": {}
      },
      "source": [
        "data_raw_2 = data_raw_1.dropna(axis=0)"
      ],
      "execution_count": 0,
      "outputs": []
    },
    {
      "cell_type": "markdown",
      "metadata": {
        "id": "HaEqIsF_U0eq",
        "colab_type": "text"
      },
      "source": [
        "### Checking bell-shaped distribution"
      ]
    },
    {
      "cell_type": "markdown",
      "metadata": {
        "id": "dvaNAhBu2wW4",
        "colab_type": "text"
      },
      "source": [
        "#### Defining dark background color palette "
      ]
    },
    {
      "cell_type": "code",
      "metadata": {
        "id": "IxeYIAtYx54I",
        "colab_type": "code",
        "colab": {
          "base_uri": "https://localhost:8080/",
          "height": 97
        },
        "outputId": "81f7ff82-cdb7-4ba1-824f-6d5bd58afea7"
      },
      "source": [
        "sns.palplot(sns.color_palette(\"ch:2.5,-.2,dark=.3\"))"
      ],
      "execution_count": 4,
      "outputs": [
        {
          "output_type": "display_data",
          "data": {
            "image/png": "[encoded data removed]",
            "text/plain": [
              "<Figure size 432x72 with 1 Axes>"
            ]
          },
          "metadata": {
            "tags": []
          }
        }
      ]
    },
    {
      "cell_type": "code",
      "metadata": {
        "id": "u78lxwevx-Dz",
        "colab_type": "code",
        "colab": {}
      },
      "source": [
        "sns.set_palette(\"ch:2.5,-.2,dark=.3\")\n",
        "sns.set_context('paper')\n",
        "plt.style.use('dark_background')"
      ],
      "execution_count": 0,
      "outputs": []
    },
    {
      "cell_type": "markdown",
      "metadata": {
        "id": "BfUpW2aOYW30",
        "colab_type": "text"
      },
      "source": [
        "#### \"Price\" variable"
      ]
    },
    {
      "cell_type": "code",
      "metadata": {
        "id": "lYhuIVLfYkzc",
        "colab_type": "code",
        "outputId": "efc5a95a-ea45-4216-c143-2999c065fdfd",
        "colab": {
          "base_uri": "https://localhost:8080/",
          "height": 301
        }
      },
      "source": [
        "sns.distplot(data_raw_2['Price'])"
      ],
      "execution_count": 56,
      "outputs": [
        {
          "output_type": "execute_result",
          "data": {
            "text/plain": [
              "<matplotlib.axes._subplots.AxesSubplot at 0x7f5b6b607898>"
            ]
          },
          "metadata": {
            "tags": []
          },
          "execution_count": 56
        },
        {
          "output_type": "display_data",
          "data": {
            "image/png": "[encoded data removed]",
            "text/plain": [
              "<Figure size 432x288 with 1 Axes>"
            ]
          },
          "metadata": {
            "tags": []
          }
        }
      ]
    },
    {
      "cell_type": "code",
      "metadata": {
        "id": "CnYpbuNpxOtQ",
        "colab_type": "code",
        "colab": {
          "base_uri": "https://localhost:8080/",
          "height": 139
        },
        "outputId": "7de519b9-4960-46cb-898d-03bddfb4303a"
      },
      "source": [
        "data_raw_2['Log_Price'] = np.log(data_raw_2['Price'])"
      ],
      "execution_count": 76,
      "outputs": [
        {
          "output_type": "stream",
          "text": [
            "/usr/local/lib/python3.6/dist-packages/ipykernel_launcher.py:1: SettingWithCopyWarning: \n",
            "A value is trying to be set on a copy of a slice from a DataFrame.\n",
            "Try using .loc[row_indexer,col_indexer] = value instead\n",
            "\n",
            "See the caveats in the documentation: http://pandas.pydata.org/pandas-docs/stable/indexing.html#indexing-view-versus-copy\n",
            "  \"\"\"Entry point for launching an IPython kernel.\n"
          ],
          "name": "stderr"
        }
      ]
    },
    {
      "cell_type": "code",
      "metadata": {
        "id": "gQJBvN9F3xsQ",
        "colab_type": "code",
        "colab": {
          "base_uri": "https://localhost:8080/",
          "height": 302
        },
        "outputId": "c0bf3a4f-dfe6-4ae4-9e40-92ee1ed417e0"
      },
      "source": [
        "sns.distplot(data_raw_2['Log_Price'])"
      ],
      "execution_count": 67,
      "outputs": [
        {
          "output_type": "execute_result",
          "data": {
            "text/plain": [
              "<matplotlib.axes._subplots.AxesSubplot at 0x7f5b6b828a58>"
            ]
          },
          "metadata": {
            "tags": []
          },
          "execution_count": 67
        },
        {
          "output_type": "display_data",
          "data": {
            "image/png": "[encoded data removed]",
            "text/plain": [
              "<Figure size 432x288 with 1 Axes>"
            ]
          },
          "metadata": {
            "tags": []
          }
        }
      ]
    },
    {
      "cell_type": "markdown",
      "metadata": {
        "id": "zwZ4A5sQ7Ui9",
        "colab_type": "text"
      },
      "source": [
        "#### Mileage"
      ]
    },
    {
      "cell_type": "code",
      "metadata": {
        "id": "CadlBZkq7ZE5",
        "colab_type": "code",
        "colab": {
          "base_uri": "https://localhost:8080/",
          "height": 301
        },
        "outputId": "2b1d2843-4604-4516-e1f2-a7da3004731e"
      },
      "source": [
        "sns.distplot(data_raw_2['Mileage'])"
      ],
      "execution_count": 68,
      "outputs": [
        {
          "output_type": "execute_result",
          "data": {
            "text/plain": [
              "<matplotlib.axes._subplots.AxesSubplot at 0x7f5b6b933e10>"
            ]
          },
          "metadata": {
            "tags": []
          },
          "execution_count": 68
        },
        {
          "output_type": "display_data",
          "data": {
            "image/png": "[encoded data removed]",
            "text/plain": [
              "<Figure size 432x288 with 1 Axes>"
            ]
          },
          "metadata": {
            "tags": []
          }
        }
      ]
    },
    {
      "cell_type": "code",
      "metadata": {
        "id": "vmqQ5GBW7hfB",
        "colab_type": "code",
        "colab": {
          "base_uri": "https://localhost:8080/",
          "height": 424
        },
        "outputId": "be4d8342-c4cd-439a-fca1-826380d64617"
      },
      "source": [
        "data_raw_2['Log_Mileage'] = np.log(data_raw_2['Mileage']+1)\n",
        "sns.distplot(data_raw_2['Log_Mileage'])"
      ],
      "execution_count": 77,
      "outputs": [
        {
          "output_type": "stream",
          "text": [
            "/usr/local/lib/python3.6/dist-packages/ipykernel_launcher.py:1: SettingWithCopyWarning: \n",
            "A value is trying to be set on a copy of a slice from a DataFrame.\n",
            "Try using .loc[row_indexer,col_indexer] = value instead\n",
            "\n",
            "See the caveats in the documentation: http://pandas.pydata.org/pandas-docs/stable/indexing.html#indexing-view-versus-copy\n",
            "  \"\"\"Entry point for launching an IPython kernel.\n"
          ],
          "name": "stderr"
        },
        {
          "output_type": "execute_result",
          "data": {
            "text/plain": [
              "<matplotlib.axes._subplots.AxesSubplot at 0x7f5b69d85cf8>"
            ]
          },
          "metadata": {
            "tags": []
          },
          "execution_count": 77
        },
        {
          "output_type": "display_data",
          "data": {
            "image/png": "[encoded data removed]",
            "text/plain": [
              "<Figure size 432x288 with 1 Axes>"
            ]
          },
          "metadata": {
            "tags": []
          }
        }
      ]
    },
    {
      "cell_type": "markdown",
      "metadata": {
        "id": "-S-uxiic763u",
        "colab_type": "text"
      },
      "source": [
        "#### EngineV"
      ]
    },
    {
      "cell_type": "code",
      "metadata": {
        "id": "tt7hetTw70cl",
        "colab_type": "code",
        "colab": {
          "base_uri": "https://localhost:8080/",
          "height": 301
        },
        "outputId": "78d1dd66-2d1b-4cd7-a6be-70c75ae96045"
      },
      "source": [
        "sns.distplot(data_raw_2['EngineV'])"
      ],
      "execution_count": 71,
      "outputs": [
        {
          "output_type": "execute_result",
          "data": {
            "text/plain": [
              "<matplotlib.axes._subplots.AxesSubplot at 0x7f5b6b3d1ba8>"
            ]
          },
          "metadata": {
            "tags": []
          },
          "execution_count": 71
        },
        {
          "output_type": "display_data",
          "data": {
            "image/png": "[encoded data removed]",
            "text/plain": [
              "<Figure size 432x288 with 1 Axes>"
            ]
          },
          "metadata": {
            "tags": []
          }
        }
      ]
    },
    {
      "cell_type": "code",
      "metadata": {
        "id": "W71ohNBj8Ey4",
        "colab_type": "code",
        "colab": {
          "base_uri": "https://localhost:8080/",
          "height": 424
        },
        "outputId": "7434162e-0bb2-4762-cecf-b4ab9f8b23c3"
      },
      "source": [
        "data_raw_2['Log_EngineV'] = np.log(data_raw_2['EngineV']+1)\n",
        "sns.distplot(data_raw_2['Log_EngineV'])"
      ],
      "execution_count": 78,
      "outputs": [
        {
          "output_type": "stream",
          "text": [
            "/usr/local/lib/python3.6/dist-packages/ipykernel_launcher.py:1: SettingWithCopyWarning: \n",
            "A value is trying to be set on a copy of a slice from a DataFrame.\n",
            "Try using .loc[row_indexer,col_indexer] = value instead\n",
            "\n",
            "See the caveats in the documentation: http://pandas.pydata.org/pandas-docs/stable/indexing.html#indexing-view-versus-copy\n",
            "  \"\"\"Entry point for launching an IPython kernel.\n"
          ],
          "name": "stderr"
        },
        {
          "output_type": "execute_result",
          "data": {
            "text/plain": [
              "<matplotlib.axes._subplots.AxesSubplot at 0x7f5b69ce20b8>"
            ]
          },
          "metadata": {
            "tags": []
          },
          "execution_count": 78
        },
        {
          "output_type": "display_data",
          "data": {
            "image/png": "[encoded data removed]",
            "text/plain": [
              "<Figure size 432x288 with 1 Axes>"
            ]
          },
          "metadata": {
            "tags": []
          }
        }
      ]
    },
    {
      "cell_type": "markdown",
      "metadata": {
        "id": "ZNyHeClW92MP",
        "colab_type": "text"
      },
      "source": [
        "#### Year"
      ]
    },
    {
      "cell_type": "code",
      "metadata": {
        "id": "S12KAsRO9_6k",
        "colab_type": "code",
        "colab": {
          "base_uri": "https://localhost:8080/",
          "height": 301
        },
        "outputId": "96c69219-30e9-431d-f69a-6e7e8db564f6"
      },
      "source": [
        "sns.distplot(data_raw_2['Year'])"
      ],
      "execution_count": 73,
      "outputs": [
        {
          "output_type": "execute_result",
          "data": {
            "text/plain": [
              "<matplotlib.axes._subplots.AxesSubplot at 0x7f5b69f5be48>"
            ]
          },
          "metadata": {
            "tags": []
          },
          "execution_count": 73
        },
        {
          "output_type": "display_data",
          "data": {
            "image/png": "[encoded data removed]",
            "text/plain": [
              "<Figure size 432x288 with 1 Axes>"
            ]
          },
          "metadata": {
            "tags": []
          }
        }
      ]
    },
    {
      "cell_type": "code",
      "metadata": {
        "id": "g-5XJ_H3-DNO",
        "colab_type": "code",
        "colab": {
          "base_uri": "https://localhost:8080/",
          "height": 424
        },
        "outputId": "947d0a79-ccad-45cb-c3b7-66da9a1c3302"
      },
      "source": [
        "data_raw_2['Log_Year'] = np.log(data_raw_2['Year'])\n",
        "sns.distplot(data_raw_2['Log_Year'])"
      ],
      "execution_count": 79,
      "outputs": [
        {
          "output_type": "stream",
          "text": [
            "/usr/local/lib/python3.6/dist-packages/ipykernel_launcher.py:1: SettingWithCopyWarning: \n",
            "A value is trying to be set on a copy of a slice from a DataFrame.\n",
            "Try using .loc[row_indexer,col_indexer] = value instead\n",
            "\n",
            "See the caveats in the documentation: http://pandas.pydata.org/pandas-docs/stable/indexing.html#indexing-view-versus-copy\n",
            "  \"\"\"Entry point for launching an IPython kernel.\n"
          ],
          "name": "stderr"
        },
        {
          "output_type": "execute_result",
          "data": {
            "text/plain": [
              "<matplotlib.axes._subplots.AxesSubplot at 0x7f5b69ce2a58>"
            ]
          },
          "metadata": {
            "tags": []
          },
          "execution_count": 79
        },
        {
          "output_type": "display_data",
          "data": {
            "image/png": "[encoded data removed]",
            "text/plain": [
              "<Figure size 432x288 with 1 Axes>"
            ]
          },
          "metadata": {
            "tags": []
          }
        }
      ]
    },
    {
      "cell_type": "markdown",
      "metadata": {
        "id": "pLE4XeQn_bZP",
        "colab_type": "text"
      },
      "source": [
        "### Capping outliers"
      ]
    },
    {
      "cell_type": "code",
      "metadata": {
        "id": "pPcWcCPV_pGf",
        "colab_type": "code",
        "colab": {
          "base_uri": "https://localhost:8080/",
          "height": 295
        },
        "outputId": "8e461c9f-8340-4505-d3d2-5eca38e7ccb4"
      },
      "source": [
        "plt.subplot(1, 3, 1)\n",
        "plt.scatter(data_raw_2['Log_EngineV'], data_raw_2['Log_Price'])\n",
        "plt.ylabel('Log_Price')\n",
        "plt.xlabel('Log_EngineV')\n",
        "\n",
        "plt.subplot(1, 3, 2)\n",
        "plt.scatter(data_raw_2['Log_Mileage'], data_raw_2['Log_Price'])\n",
        "plt.title('Relation with target')\n",
        "plt.xlabel('Log_Mileage')\n",
        "\n",
        "plt.subplot(1, 3, 3)\n",
        "plt.scatter(data_raw_2['Year'], data_raw_2['Log_Price'])\n",
        "plt.xlabel('Year')\n",
        "\n",
        "plt.show()"
      ],
      "execution_count": 87,
      "outputs": [
        {
          "output_type": "display_data",
          "data": {
            "image/png": "[encoded data removed]",
            "text/plain": [
              "<Figure size 432x288 with 3 Axes>"
            ]
          },
          "metadata": {
            "tags": []
          }
        }
      ]
    },
    {
      "cell_type": "markdown",
      "metadata": {
        "id": "JRlwv560EjrY",
        "colab_type": "text"
      },
      "source": [
        "#### Year variable"
      ]
    },
    {
      "cell_type": "code",
      "metadata": {
        "id": "2ah3qtW0Dcbi",
        "colab_type": "code",
        "colab": {
          "base_uri": "https://localhost:8080/",
          "height": 238
        },
        "outputId": "f079cfe2-ec67-42e1-cd72-42361a7f77ef"
      },
      "source": [
        "data_raw_2[data_raw_2['Year'] < 1980].count()"
      ],
      "execution_count": 91,
      "outputs": [
        {
          "output_type": "execute_result",
          "data": {
            "text/plain": [
              "Brand           6\n",
              "Price           6\n",
              "Body            6\n",
              "Mileage         6\n",
              "EngineV         6\n",
              "Engine Type     6\n",
              "Registration    6\n",
              "Year            6\n",
              "Log_Price       6\n",
              "Log_Mileage     6\n",
              "Log_EngineV     6\n",
              "Log_Year        6\n",
              "dtype: int64"
            ]
          },
          "metadata": {
            "tags": []
          },
          "execution_count": 91
        }
      ]
    },
    {
      "cell_type": "code",
      "metadata": {
        "id": "K8QABZ-7D7d_",
        "colab_type": "code",
        "colab": {}
      },
      "source": [
        "data_raw_3 = data_raw_2.drop(data_raw_2[data_raw_2['Year'] < 1980].index,axis=0)"
      ],
      "execution_count": 0,
      "outputs": []
    },
    {
      "cell_type": "markdown",
      "metadata": {
        "id": "TF3xTnF8EmrF",
        "colab_type": "text"
      },
      "source": [
        "#### Engine Volume"
      ]
    },
    {
      "cell_type": "code",
      "metadata": {
        "id": "kGK2mQe8Evgs",
        "colab_type": "code",
        "colab": {
          "base_uri": "https://localhost:8080/",
          "height": 238
        },
        "outputId": "87fbe0d7-fa9e-456e-fd58-d412d9d5dde5"
      },
      "source": [
        "data_raw_2[data_raw_2['EngineV'] > 10].count()"
      ],
      "execution_count": 100,
      "outputs": [
        {
          "output_type": "execute_result",
          "data": {
            "text/plain": [
              "Brand           20\n",
              "Price           20\n",
              "Body            20\n",
              "Mileage         20\n",
              "EngineV         20\n",
              "Engine Type     20\n",
              "Registration    20\n",
              "Year            20\n",
              "Log_Price       20\n",
              "Log_Mileage     20\n",
              "Log_EngineV     20\n",
              "Log_Year        20\n",
              "dtype: int64"
            ]
          },
          "metadata": {
            "tags": []
          },
          "execution_count": 100
        }
      ]
    },
    {
      "cell_type": "code",
      "metadata": {
        "id": "SKFHKGUFFbhp",
        "colab_type": "code",
        "colab": {}
      },
      "source": [
        "data_raw_3 = data_raw_3.drop(data_raw_3[data_raw_3['EngineV'] > 10].index,axis=0)"
      ],
      "execution_count": 0,
      "outputs": []
    },
    {
      "cell_type": "markdown",
      "metadata": {
        "id": "8q4Iz_D8GMNi",
        "colab_type": "text"
      },
      "source": [
        "#### Log_Price"
      ]
    },
    {
      "cell_type": "code",
      "metadata": {
        "id": "-risezvcF2IA",
        "colab_type": "code",
        "colab": {
          "base_uri": "https://localhost:8080/",
          "height": 302
        },
        "outputId": "77bb5f12-7fff-404c-e705-15edb34fd0ea"
      },
      "source": [
        "sns.boxplot(data_raw_3['Log_Price'])"
      ],
      "execution_count": 106,
      "outputs": [
        {
          "output_type": "execute_result",
          "data": {
            "text/plain": [
              "<matplotlib.axes._subplots.AxesSubplot at 0x7f5b69432ac8>"
            ]
          },
          "metadata": {
            "tags": []
          },
          "execution_count": 106
        },
        {
          "output_type": "display_data",
          "data": {
            "image/png": "[encoded data removed]",
            "text/plain": [
              "<Figure size 432x288 with 1 Axes>"
            ]
          },
          "metadata": {
            "tags": []
          }
        }
      ]
    },
    {
      "cell_type": "code",
      "metadata": {
        "id": "H6ZDXjPUGgcL",
        "colab_type": "code",
        "colab": {
          "base_uri": "https://localhost:8080/",
          "height": 238
        },
        "outputId": "93eb7ac5-2cba-4cda-a718-85a1366b5dec"
      },
      "source": [
        "data_raw_3[(data_raw_3['Log_Price']<7.2)^(data_raw_3['Log_Price']>11.7)].count()"
      ],
      "execution_count": 115,
      "outputs": [
        {
          "output_type": "execute_result",
          "data": {
            "text/plain": [
              "Brand           65\n",
              "Price           65\n",
              "Body            65\n",
              "Mileage         65\n",
              "EngineV         65\n",
              "Engine Type     65\n",
              "Registration    65\n",
              "Year            65\n",
              "Log_Price       65\n",
              "Log_Mileage     65\n",
              "Log_EngineV     65\n",
              "Log_Year        65\n",
              "dtype: int64"
            ]
          },
          "metadata": {
            "tags": []
          },
          "execution_count": 115
        }
      ]
    },
    {
      "cell_type": "code",
      "metadata": {
        "id": "mKdzgkr3IFxw",
        "colab_type": "code",
        "colab": {}
      },
      "source": [
        "data_raw_3 = data_raw_3.drop(data_raw_3[(data_raw_3['Log_Price']<7.2)^(data_raw_3['Log_Price']>11.7)].index,axis=0)"
      ],
      "execution_count": 0,
      "outputs": []
    },
    {
      "cell_type": "markdown",
      "metadata": {
        "id": "yN_O5f5RImE6",
        "colab_type": "text"
      },
      "source": [
        "### Keeping only inputs and target"
      ]
    },
    {
      "cell_type": "code",
      "metadata": {
        "id": "XK39WEqYJrRu",
        "colab_type": "code",
        "colab": {}
      },
      "source": [
        "data_preprocessed = data_raw_3.drop(data_raw_3[['Log_Year','Price','Mileage','EngineV']],axis=1)"
      ],
      "execution_count": 0,
      "outputs": []
    },
    {
      "cell_type": "code",
      "metadata": {
        "id": "dy4WFGNcDTB4",
        "colab_type": "code",
        "colab": {
          "base_uri": "https://localhost:8080/",
          "height": 390
        },
        "outputId": "de9e9f37-31ed-4fe6-f406-421d2832407e"
      },
      "source": [
        "data_preprocessed.describe(include='all')"
      ],
      "execution_count": 120,
      "outputs": [
        {
          "output_type": "execute_result",
          "data": {
            "text/html": [
              "<div>\n",
              "<style scoped>\n",
              "    .dataframe tbody tr th:only-of-type {\n",
              "        vertical-align: middle;\n",
              "    }\n",
              "\n",
              "    .dataframe tbody tr th {\n",
              "        vertical-align: top;\n",
              "    }\n",
              "\n",
              "    .dataframe thead th {\n",
              "        text-align: right;\n",
              "    }\n",
              "</style>\n",
              "<table border=\"1\" class=\"dataframe\">\n",
              "  <thead>\n",
              "    <tr style=\"text-align: right;\">\n",
              "      <th></th>\n",
              "      <th>Brand</th>\n",
              "      <th>Body</th>\n",
              "      <th>Engine Type</th>\n",
              "      <th>Registration</th>\n",
              "      <th>Year</th>\n",
              "      <th>Log_Price</th>\n",
              "      <th>Log_Mileage</th>\n",
              "      <th>Log_EngineV</th>\n",
              "    </tr>\n",
              "  </thead>\n",
              "  <tbody>\n",
              "    <tr>\n",
              "      <th>count</th>\n",
              "      <td>3934</td>\n",
              "      <td>3934</td>\n",
              "      <td>3934</td>\n",
              "      <td>3934</td>\n",
              "      <td>3934.000000</td>\n",
              "      <td>3934.000000</td>\n",
              "      <td>3934.000000</td>\n",
              "      <td>3934.000000</td>\n",
              "    </tr>\n",
              "    <tr>\n",
              "      <th>unique</th>\n",
              "      <td>7</td>\n",
              "      <td>6</td>\n",
              "      <td>4</td>\n",
              "      <td>2</td>\n",
              "      <td>NaN</td>\n",
              "      <td>NaN</td>\n",
              "      <td>NaN</td>\n",
              "      <td>NaN</td>\n",
              "    </tr>\n",
              "    <tr>\n",
              "      <th>top</th>\n",
              "      <td>Volkswagen</td>\n",
              "      <td>sedan</td>\n",
              "      <td>Diesel</td>\n",
              "      <td>yes</td>\n",
              "      <td>NaN</td>\n",
              "      <td>NaN</td>\n",
              "      <td>NaN</td>\n",
              "      <td>NaN</td>\n",
              "    </tr>\n",
              "    <tr>\n",
              "      <th>freq</th>\n",
              "      <td>872</td>\n",
              "      <td>1500</td>\n",
              "      <td>1833</td>\n",
              "      <td>3572</td>\n",
              "      <td>NaN</td>\n",
              "      <td>NaN</td>\n",
              "      <td>NaN</td>\n",
              "      <td>NaN</td>\n",
              "    </tr>\n",
              "    <tr>\n",
              "      <th>mean</th>\n",
              "      <td>NaN</td>\n",
              "      <td>NaN</td>\n",
              "      <td>NaN</td>\n",
              "      <td>NaN</td>\n",
              "      <td>2006.392476</td>\n",
              "      <td>9.389984</td>\n",
              "      <td>4.697504</td>\n",
              "      <td>1.204866</td>\n",
              "    </tr>\n",
              "    <tr>\n",
              "      <th>std</th>\n",
              "      <td>NaN</td>\n",
              "      <td>NaN</td>\n",
              "      <td>NaN</td>\n",
              "      <td>NaN</td>\n",
              "      <td>6.492461</td>\n",
              "      <td>0.877504</td>\n",
              "      <td>1.314916</td>\n",
              "      <td>0.246993</td>\n",
              "    </tr>\n",
              "    <tr>\n",
              "      <th>min</th>\n",
              "      <td>NaN</td>\n",
              "      <td>NaN</td>\n",
              "      <td>NaN</td>\n",
              "      <td>NaN</td>\n",
              "      <td>1980.000000</td>\n",
              "      <td>7.207860</td>\n",
              "      <td>0.000000</td>\n",
              "      <td>0.470004</td>\n",
              "    </tr>\n",
              "    <tr>\n",
              "      <th>25%</th>\n",
              "      <td>NaN</td>\n",
              "      <td>NaN</td>\n",
              "      <td>NaN</td>\n",
              "      <td>NaN</td>\n",
              "      <td>2003.000000</td>\n",
              "      <td>8.853665</td>\n",
              "      <td>4.543295</td>\n",
              "      <td>1.029619</td>\n",
              "    </tr>\n",
              "    <tr>\n",
              "      <th>50%</th>\n",
              "      <td>NaN</td>\n",
              "      <td>NaN</td>\n",
              "      <td>NaN</td>\n",
              "      <td>NaN</td>\n",
              "      <td>2007.000000</td>\n",
              "      <td>9.350102</td>\n",
              "      <td>5.081404</td>\n",
              "      <td>1.163151</td>\n",
              "    </tr>\n",
              "    <tr>\n",
              "      <th>75%</th>\n",
              "      <td>NaN</td>\n",
              "      <td>NaN</td>\n",
              "      <td>NaN</td>\n",
              "      <td>NaN</td>\n",
              "      <td>2011.000000</td>\n",
              "      <td>9.952278</td>\n",
              "      <td>5.442418</td>\n",
              "      <td>1.386294</td>\n",
              "    </tr>\n",
              "    <tr>\n",
              "      <th>max</th>\n",
              "      <td>NaN</td>\n",
              "      <td>NaN</td>\n",
              "      <td>NaN</td>\n",
              "      <td>NaN</td>\n",
              "      <td>2016.000000</td>\n",
              "      <td>11.686879</td>\n",
              "      <td>6.888572</td>\n",
              "      <td>2.302585</td>\n",
              "    </tr>\n",
              "  </tbody>\n",
              "</table>\n",
              "</div>"
            ],
            "text/plain": [
              "             Brand   Body Engine Type  ...    Log_Price  Log_Mileage  Log_EngineV\n",
              "count         3934   3934        3934  ...  3934.000000  3934.000000  3934.000000\n",
              "unique           7      6           4  ...          NaN          NaN          NaN\n",
              "top     Volkswagen  sedan      Diesel  ...          NaN          NaN          NaN\n",
              "freq           872   1500        1833  ...          NaN          NaN          NaN\n",
              "mean           NaN    NaN         NaN  ...     9.389984     4.697504     1.204866\n",
              "std            NaN    NaN         NaN  ...     0.877504     1.314916     0.246993\n",
              "min            NaN    NaN         NaN  ...     7.207860     0.000000     0.470004\n",
              "25%            NaN    NaN         NaN  ...     8.853665     4.543295     1.029619\n",
              "50%            NaN    NaN         NaN  ...     9.350102     5.081404     1.163151\n",
              "75%            NaN    NaN         NaN  ...     9.952278     5.442418     1.386294\n",
              "max            NaN    NaN         NaN  ...    11.686879     6.888572     2.302585\n",
              "\n",
              "[11 rows x 8 columns]"
            ]
          },
          "metadata": {
            "tags": []
          },
          "execution_count": 120
        }
      ]
    },
    {
      "cell_type": "markdown",
      "metadata": {
        "id": "TcfdYblzNYfT",
        "colab_type": "text"
      },
      "source": [
        "### Saving preprocessed data set"
      ]
    },
    {
      "cell_type": "code",
      "metadata": {
        "id": "y4tmRtYsNcV7",
        "colab_type": "code",
        "colab": {}
      },
      "source": [
        "data_preprocessed.to_csv('data_preprocessed.csv', encoding='utf-8', index=False)"
      ],
      "execution_count": 0,
      "outputs": []
    },
    {
      "cell_type": "markdown",
      "metadata": {
        "id": "KV4VAt7-NH7g",
        "colab_type": "text"
      },
      "source": [
        "---\n",
        "## Data Prep: Inputs and target \n",
        "---"
      ]
    },
    {
      "cell_type": "markdown",
      "metadata": {
        "id": "HsfozPduNSRe",
        "colab_type": "text"
      },
      "source": [
        "### Loading data preprocessed"
      ]
    },
    {
      "cell_type": "code",
      "metadata": {
        "id": "QG6yW2JYNPNh",
        "colab_type": "code",
        "colab": {}
      },
      "source": [
        "data_preprocessed = pd.read_csv('data_preprocessed.csv')"
      ],
      "execution_count": 0,
      "outputs": []
    },
    {
      "cell_type": "markdown",
      "metadata": {
        "id": "BHOU_6teOP-q",
        "colab_type": "text"
      },
      "source": [
        "### Creating dummy variables"
      ]
    },
    {
      "cell_type": "code",
      "metadata": {
        "id": "0XmOy8u3GNP9",
        "colab_type": "code",
        "colab": {
          "base_uri": "https://localhost:8080/",
          "height": 204
        },
        "outputId": "0ab02ea8-ddc0-4cbb-d69d-ae62a54b06f1"
      },
      "source": [
        "data_preprocessed.head()"
      ],
      "execution_count": 14,
      "outputs": [
        {
          "output_type": "execute_result",
          "data": {
            "text/html": [
              "<div>\n",
              "<style scoped>\n",
              "    .dataframe tbody tr th:only-of-type {\n",
              "        vertical-align: middle;\n",
              "    }\n",
              "\n",
              "    .dataframe tbody tr th {\n",
              "        vertical-align: top;\n",
              "    }\n",
              "\n",
              "    .dataframe thead th {\n",
              "        text-align: right;\n",
              "    }\n",
              "</style>\n",
              "<table border=\"1\" class=\"dataframe\">\n",
              "  <thead>\n",
              "    <tr style=\"text-align: right;\">\n",
              "      <th></th>\n",
              "      <th>Brand</th>\n",
              "      <th>Body</th>\n",
              "      <th>Engine Type</th>\n",
              "      <th>Registration</th>\n",
              "      <th>Year</th>\n",
              "      <th>Log_Price</th>\n",
              "      <th>Log_Mileage</th>\n",
              "      <th>Log_EngineV</th>\n",
              "    </tr>\n",
              "  </thead>\n",
              "  <tbody>\n",
              "    <tr>\n",
              "      <th>0</th>\n",
              "      <td>BMW</td>\n",
              "      <td>sedan</td>\n",
              "      <td>Petrol</td>\n",
              "      <td>yes</td>\n",
              "      <td>1991</td>\n",
              "      <td>8.342840</td>\n",
              "      <td>5.627621</td>\n",
              "      <td>1.098612</td>\n",
              "    </tr>\n",
              "    <tr>\n",
              "      <th>1</th>\n",
              "      <td>Mercedes-Benz</td>\n",
              "      <td>van</td>\n",
              "      <td>Diesel</td>\n",
              "      <td>yes</td>\n",
              "      <td>1999</td>\n",
              "      <td>8.974618</td>\n",
              "      <td>6.059123</td>\n",
              "      <td>1.360977</td>\n",
              "    </tr>\n",
              "    <tr>\n",
              "      <th>2</th>\n",
              "      <td>Mercedes-Benz</td>\n",
              "      <td>sedan</td>\n",
              "      <td>Gas</td>\n",
              "      <td>yes</td>\n",
              "      <td>2003</td>\n",
              "      <td>9.495519</td>\n",
              "      <td>5.883322</td>\n",
              "      <td>1.791759</td>\n",
              "    </tr>\n",
              "    <tr>\n",
              "      <th>3</th>\n",
              "      <td>Audi</td>\n",
              "      <td>crossover</td>\n",
              "      <td>Petrol</td>\n",
              "      <td>yes</td>\n",
              "      <td>2007</td>\n",
              "      <td>10.043249</td>\n",
              "      <td>5.484797</td>\n",
              "      <td>1.648659</td>\n",
              "    </tr>\n",
              "    <tr>\n",
              "      <th>4</th>\n",
              "      <td>Toyota</td>\n",
              "      <td>crossover</td>\n",
              "      <td>Petrol</td>\n",
              "      <td>yes</td>\n",
              "      <td>2011</td>\n",
              "      <td>9.814656</td>\n",
              "      <td>4.795791</td>\n",
              "      <td>1.098612</td>\n",
              "    </tr>\n",
              "  </tbody>\n",
              "</table>\n",
              "</div>"
            ],
            "text/plain": [
              "           Brand       Body Engine Type  ...  Log_Price  Log_Mileage  Log_EngineV\n",
              "0            BMW      sedan      Petrol  ...   8.342840     5.627621     1.098612\n",
              "1  Mercedes-Benz        van      Diesel  ...   8.974618     6.059123     1.360977\n",
              "2  Mercedes-Benz      sedan         Gas  ...   9.495519     5.883322     1.791759\n",
              "3           Audi  crossover      Petrol  ...  10.043249     5.484797     1.648659\n",
              "4         Toyota  crossover      Petrol  ...   9.814656     4.795791     1.098612\n",
              "\n",
              "[5 rows x 8 columns]"
            ]
          },
          "metadata": {
            "tags": []
          },
          "execution_count": 14
        }
      ]
    },
    {
      "cell_type": "code",
      "metadata": {
        "id": "wU77KkkoDV7V",
        "colab_type": "code",
        "colab": {}
      },
      "source": [
        "x_categ_dummy = pd.get_dummies(data_preprocessed[['Brand','Body','Engine Type','Registration']],drop_first=True)"
      ],
      "execution_count": 0,
      "outputs": []
    },
    {
      "cell_type": "code",
      "metadata": {
        "id": "H_vMsSa58xeY",
        "colab_type": "code",
        "colab": {
          "base_uri": "https://localhost:8080/",
          "height": 334
        },
        "outputId": "21b6bb03-a362-4bf8-c660-64ce26514c30"
      },
      "source": [
        "x_categ_dummy.describe(include='all')"
      ],
      "execution_count": 16,
      "outputs": [
        {
          "output_type": "execute_result",
          "data": {
            "text/html": [
              "<div>\n",
              "<style scoped>\n",
              "    .dataframe tbody tr th:only-of-type {\n",
              "        vertical-align: middle;\n",
              "    }\n",
              "\n",
              "    .dataframe tbody tr th {\n",
              "        vertical-align: top;\n",
              "    }\n",
              "\n",
              "    .dataframe thead th {\n",
              "        text-align: right;\n",
              "    }\n",
              "</style>\n",
              "<table border=\"1\" class=\"dataframe\">\n",
              "  <thead>\n",
              "    <tr style=\"text-align: right;\">\n",
              "      <th></th>\n",
              "      <th>Brand_BMW</th>\n",
              "      <th>Brand_Mercedes-Benz</th>\n",
              "      <th>Brand_Mitsubishi</th>\n",
              "      <th>Brand_Renault</th>\n",
              "      <th>Brand_Toyota</th>\n",
              "      <th>Brand_Volkswagen</th>\n",
              "      <th>Body_hatch</th>\n",
              "      <th>Body_other</th>\n",
              "      <th>Body_sedan</th>\n",
              "      <th>Body_vagon</th>\n",
              "      <th>Body_van</th>\n",
              "      <th>Engine Type_Gas</th>\n",
              "      <th>Engine Type_Other</th>\n",
              "      <th>Engine Type_Petrol</th>\n",
              "      <th>Registration_yes</th>\n",
              "    </tr>\n",
              "  </thead>\n",
              "  <tbody>\n",
              "    <tr>\n",
              "      <th>count</th>\n",
              "      <td>3934.000000</td>\n",
              "      <td>3934.000000</td>\n",
              "      <td>3934.000000</td>\n",
              "      <td>3934.000000</td>\n",
              "      <td>3934.000000</td>\n",
              "      <td>3934.000000</td>\n",
              "      <td>3934.000000</td>\n",
              "      <td>3934.000000</td>\n",
              "      <td>3934.000000</td>\n",
              "      <td>3934.000000</td>\n",
              "      <td>3934.000000</td>\n",
              "      <td>3934.000000</td>\n",
              "      <td>3934.000000</td>\n",
              "      <td>3934.000000</td>\n",
              "      <td>3934.000000</td>\n",
              "    </tr>\n",
              "    <tr>\n",
              "      <th>mean</th>\n",
              "      <td>0.160651</td>\n",
              "      <td>0.195984</td>\n",
              "      <td>0.077529</td>\n",
              "      <td>0.109812</td>\n",
              "      <td>0.128114</td>\n",
              "      <td>0.221657</td>\n",
              "      <td>0.066853</td>\n",
              "      <td>0.097102</td>\n",
              "      <td>0.381291</td>\n",
              "      <td>0.096085</td>\n",
              "      <td>0.156584</td>\n",
              "      <td>0.148195</td>\n",
              "      <td>0.025928</td>\n",
              "      <td>0.359939</td>\n",
              "      <td>0.907982</td>\n",
              "    </tr>\n",
              "    <tr>\n",
              "      <th>std</th>\n",
              "      <td>0.367255</td>\n",
              "      <td>0.397007</td>\n",
              "      <td>0.267463</td>\n",
              "      <td>0.312695</td>\n",
              "      <td>0.334259</td>\n",
              "      <td>0.415415</td>\n",
              "      <td>0.249799</td>\n",
              "      <td>0.296135</td>\n",
              "      <td>0.485766</td>\n",
              "      <td>0.294746</td>\n",
              "      <td>0.363454</td>\n",
              "      <td>0.355339</td>\n",
              "      <td>0.158940</td>\n",
              "      <td>0.480043</td>\n",
              "      <td>0.289089</td>\n",
              "    </tr>\n",
              "    <tr>\n",
              "      <th>min</th>\n",
              "      <td>0.000000</td>\n",
              "      <td>0.000000</td>\n",
              "      <td>0.000000</td>\n",
              "      <td>0.000000</td>\n",
              "      <td>0.000000</td>\n",
              "      <td>0.000000</td>\n",
              "      <td>0.000000</td>\n",
              "      <td>0.000000</td>\n",
              "      <td>0.000000</td>\n",
              "      <td>0.000000</td>\n",
              "      <td>0.000000</td>\n",
              "      <td>0.000000</td>\n",
              "      <td>0.000000</td>\n",
              "      <td>0.000000</td>\n",
              "      <td>0.000000</td>\n",
              "    </tr>\n",
              "    <tr>\n",
              "      <th>25%</th>\n",
              "      <td>0.000000</td>\n",
              "      <td>0.000000</td>\n",
              "      <td>0.000000</td>\n",
              "      <td>0.000000</td>\n",
              "      <td>0.000000</td>\n",
              "      <td>0.000000</td>\n",
              "      <td>0.000000</td>\n",
              "      <td>0.000000</td>\n",
              "      <td>0.000000</td>\n",
              "      <td>0.000000</td>\n",
              "      <td>0.000000</td>\n",
              "      <td>0.000000</td>\n",
              "      <td>0.000000</td>\n",
              "      <td>0.000000</td>\n",
              "      <td>1.000000</td>\n",
              "    </tr>\n",
              "    <tr>\n",
              "      <th>50%</th>\n",
              "      <td>0.000000</td>\n",
              "      <td>0.000000</td>\n",
              "      <td>0.000000</td>\n",
              "      <td>0.000000</td>\n",
              "      <td>0.000000</td>\n",
              "      <td>0.000000</td>\n",
              "      <td>0.000000</td>\n",
              "      <td>0.000000</td>\n",
              "      <td>0.000000</td>\n",
              "      <td>0.000000</td>\n",
              "      <td>0.000000</td>\n",
              "      <td>0.000000</td>\n",
              "      <td>0.000000</td>\n",
              "      <td>0.000000</td>\n",
              "      <td>1.000000</td>\n",
              "    </tr>\n",
              "    <tr>\n",
              "      <th>75%</th>\n",
              "      <td>0.000000</td>\n",
              "      <td>0.000000</td>\n",
              "      <td>0.000000</td>\n",
              "      <td>0.000000</td>\n",
              "      <td>0.000000</td>\n",
              "      <td>0.000000</td>\n",
              "      <td>0.000000</td>\n",
              "      <td>0.000000</td>\n",
              "      <td>1.000000</td>\n",
              "      <td>0.000000</td>\n",
              "      <td>0.000000</td>\n",
              "      <td>0.000000</td>\n",
              "      <td>0.000000</td>\n",
              "      <td>1.000000</td>\n",
              "      <td>1.000000</td>\n",
              "    </tr>\n",
              "    <tr>\n",
              "      <th>max</th>\n",
              "      <td>1.000000</td>\n",
              "      <td>1.000000</td>\n",
              "      <td>1.000000</td>\n",
              "      <td>1.000000</td>\n",
              "      <td>1.000000</td>\n",
              "      <td>1.000000</td>\n",
              "      <td>1.000000</td>\n",
              "      <td>1.000000</td>\n",
              "      <td>1.000000</td>\n",
              "      <td>1.000000</td>\n",
              "      <td>1.000000</td>\n",
              "      <td>1.000000</td>\n",
              "      <td>1.000000</td>\n",
              "      <td>1.000000</td>\n",
              "      <td>1.000000</td>\n",
              "    </tr>\n",
              "  </tbody>\n",
              "</table>\n",
              "</div>"
            ],
            "text/plain": [
              "         Brand_BMW  Brand_Mercedes-Benz  ...  Engine Type_Petrol  Registration_yes\n",
              "count  3934.000000          3934.000000  ...         3934.000000       3934.000000\n",
              "mean      0.160651             0.195984  ...            0.359939          0.907982\n",
              "std       0.367255             0.397007  ...            0.480043          0.289089\n",
              "min       0.000000             0.000000  ...            0.000000          0.000000\n",
              "25%       0.000000             0.000000  ...            0.000000          1.000000\n",
              "50%       0.000000             0.000000  ...            0.000000          1.000000\n",
              "75%       0.000000             0.000000  ...            1.000000          1.000000\n",
              "max       1.000000             1.000000  ...            1.000000          1.000000\n",
              "\n",
              "[8 rows x 15 columns]"
            ]
          },
          "metadata": {
            "tags": []
          },
          "execution_count": 16
        }
      ]
    },
    {
      "cell_type": "markdown",
      "metadata": {
        "id": "GN7QQNloOVTQ",
        "colab_type": "text"
      },
      "source": [
        "### Scaling continuous inputs"
      ]
    },
    {
      "cell_type": "code",
      "metadata": {
        "id": "omhUO6aIFQ_u",
        "colab_type": "code",
        "colab": {}
      },
      "source": [
        "from sklearn.preprocessing import StandardScaler"
      ],
      "execution_count": 0,
      "outputs": []
    },
    {
      "cell_type": "code",
      "metadata": {
        "id": "XDCenKIOE1w5",
        "colab_type": "code",
        "colab": {}
      },
      "source": [
        "scaler = StandardScaler()\n",
        "scaler.fit(data_preprocessed[['Log_Mileage','Log_EngineV','Year']])\n",
        "data_preprocessed[['Log_Mileage','Log_EngineV','Year']] = scaler.transform(data_preprocessed[['Log_Mileage','Log_EngineV','Year']])"
      ],
      "execution_count": 0,
      "outputs": []
    },
    {
      "cell_type": "code",
      "metadata": {
        "id": "uVD-9fhTG25n",
        "colab_type": "code",
        "colab": {}
      },
      "source": [
        "x_continuous = data_preprocessed[['Year','Log_Mileage','Log_EngineV']]"
      ],
      "execution_count": 0,
      "outputs": []
    },
    {
      "cell_type": "markdown",
      "metadata": {
        "id": "W5Uoqt4WKYrT",
        "colab_type": "text"
      },
      "source": [
        "### Building input and target "
      ]
    },
    {
      "cell_type": "code",
      "metadata": {
        "id": "LyYkDnfTKjd1",
        "colab_type": "code",
        "colab": {
          "base_uri": "https://localhost:8080/",
          "height": 241
        },
        "outputId": "a5d4068b-0cd1-4152-816c-d9fabc7b2f83"
      },
      "source": [
        "x_input = x_continuous.join(x_categ_dummy)\n",
        "x_input.head()"
      ],
      "execution_count": 42,
      "outputs": [
        {
          "output_type": "execute_result",
          "data": {
            "text/html": [
              "<div>\n",
              "<style scoped>\n",
              "    .dataframe tbody tr th:only-of-type {\n",
              "        vertical-align: middle;\n",
              "    }\n",
              "\n",
              "    .dataframe tbody tr th {\n",
              "        vertical-align: top;\n",
              "    }\n",
              "\n",
              "    .dataframe thead th {\n",
              "        text-align: right;\n",
              "    }\n",
              "</style>\n",
              "<table border=\"1\" class=\"dataframe\">\n",
              "  <thead>\n",
              "    <tr style=\"text-align: right;\">\n",
              "      <th></th>\n",
              "      <th>Year</th>\n",
              "      <th>Log_Mileage</th>\n",
              "      <th>Log_EngineV</th>\n",
              "      <th>Brand_BMW</th>\n",
              "      <th>Brand_Mercedes-Benz</th>\n",
              "      <th>Brand_Mitsubishi</th>\n",
              "      <th>Brand_Renault</th>\n",
              "      <th>Brand_Toyota</th>\n",
              "      <th>Brand_Volkswagen</th>\n",
              "      <th>Body_hatch</th>\n",
              "      <th>Body_other</th>\n",
              "      <th>Body_sedan</th>\n",
              "      <th>Body_vagon</th>\n",
              "      <th>Body_van</th>\n",
              "      <th>Engine Type_Gas</th>\n",
              "      <th>Engine Type_Other</th>\n",
              "      <th>Engine Type_Petrol</th>\n",
              "      <th>Registration_yes</th>\n",
              "    </tr>\n",
              "  </thead>\n",
              "  <tbody>\n",
              "    <tr>\n",
              "      <th>0</th>\n",
              "      <td>-2.371124</td>\n",
              "      <td>0.707448</td>\n",
              "      <td>-0.430242</td>\n",
              "      <td>1</td>\n",
              "      <td>0</td>\n",
              "      <td>0</td>\n",
              "      <td>0</td>\n",
              "      <td>0</td>\n",
              "      <td>0</td>\n",
              "      <td>0</td>\n",
              "      <td>0</td>\n",
              "      <td>1</td>\n",
              "      <td>0</td>\n",
              "      <td>0</td>\n",
              "      <td>0</td>\n",
              "      <td>0</td>\n",
              "      <td>1</td>\n",
              "      <td>1</td>\n",
              "    </tr>\n",
              "    <tr>\n",
              "      <th>1</th>\n",
              "      <td>-1.138769</td>\n",
              "      <td>1.035650</td>\n",
              "      <td>0.632126</td>\n",
              "      <td>0</td>\n",
              "      <td>1</td>\n",
              "      <td>0</td>\n",
              "      <td>0</td>\n",
              "      <td>0</td>\n",
              "      <td>0</td>\n",
              "      <td>0</td>\n",
              "      <td>0</td>\n",
              "      <td>0</td>\n",
              "      <td>0</td>\n",
              "      <td>1</td>\n",
              "      <td>0</td>\n",
              "      <td>0</td>\n",
              "      <td>0</td>\n",
              "      <td>1</td>\n",
              "    </tr>\n",
              "    <tr>\n",
              "      <th>2</th>\n",
              "      <td>-0.522592</td>\n",
              "      <td>0.901935</td>\n",
              "      <td>2.376456</td>\n",
              "      <td>0</td>\n",
              "      <td>1</td>\n",
              "      <td>0</td>\n",
              "      <td>0</td>\n",
              "      <td>0</td>\n",
              "      <td>0</td>\n",
              "      <td>0</td>\n",
              "      <td>0</td>\n",
              "      <td>1</td>\n",
              "      <td>0</td>\n",
              "      <td>0</td>\n",
              "      <td>1</td>\n",
              "      <td>0</td>\n",
              "      <td>0</td>\n",
              "      <td>1</td>\n",
              "    </tr>\n",
              "    <tr>\n",
              "      <th>3</th>\n",
              "      <td>0.093586</td>\n",
              "      <td>0.598816</td>\n",
              "      <td>1.797010</td>\n",
              "      <td>0</td>\n",
              "      <td>0</td>\n",
              "      <td>0</td>\n",
              "      <td>0</td>\n",
              "      <td>0</td>\n",
              "      <td>0</td>\n",
              "      <td>0</td>\n",
              "      <td>0</td>\n",
              "      <td>0</td>\n",
              "      <td>0</td>\n",
              "      <td>0</td>\n",
              "      <td>0</td>\n",
              "      <td>0</td>\n",
              "      <td>1</td>\n",
              "      <td>1</td>\n",
              "    </tr>\n",
              "    <tr>\n",
              "      <th>4</th>\n",
              "      <td>0.709763</td>\n",
              "      <td>0.074757</td>\n",
              "      <td>-0.430242</td>\n",
              "      <td>0</td>\n",
              "      <td>0</td>\n",
              "      <td>0</td>\n",
              "      <td>0</td>\n",
              "      <td>1</td>\n",
              "      <td>0</td>\n",
              "      <td>0</td>\n",
              "      <td>0</td>\n",
              "      <td>0</td>\n",
              "      <td>0</td>\n",
              "      <td>0</td>\n",
              "      <td>0</td>\n",
              "      <td>0</td>\n",
              "      <td>1</td>\n",
              "      <td>1</td>\n",
              "    </tr>\n",
              "  </tbody>\n",
              "</table>\n",
              "</div>"
            ],
            "text/plain": [
              "       Year  Log_Mileage  ...  Engine Type_Petrol  Registration_yes\n",
              "0 -2.371124     0.707448  ...                   1                 1\n",
              "1 -1.138769     1.035650  ...                   0                 1\n",
              "2 -0.522592     0.901935  ...                   0                 1\n",
              "3  0.093586     0.598816  ...                   1                 1\n",
              "4  0.709763     0.074757  ...                   1                 1\n",
              "\n",
              "[5 rows x 18 columns]"
            ]
          },
          "metadata": {
            "tags": []
          },
          "execution_count": 42
        }
      ]
    },
    {
      "cell_type": "code",
      "metadata": {
        "id": "3Cc11To-MFIX",
        "colab_type": "code",
        "colab": {
          "base_uri": "https://localhost:8080/",
          "height": 297
        },
        "outputId": "089ed85a-da04-4668-ceb5-846f159b7a78"
      },
      "source": [
        "y_target = data_preprocessed[['Log_Price']]\n",
        "y_target.describe()"
      ],
      "execution_count": 43,
      "outputs": [
        {
          "output_type": "execute_result",
          "data": {
            "text/html": [
              "<div>\n",
              "<style scoped>\n",
              "    .dataframe tbody tr th:only-of-type {\n",
              "        vertical-align: middle;\n",
              "    }\n",
              "\n",
              "    .dataframe tbody tr th {\n",
              "        vertical-align: top;\n",
              "    }\n",
              "\n",
              "    .dataframe thead th {\n",
              "        text-align: right;\n",
              "    }\n",
              "</style>\n",
              "<table border=\"1\" class=\"dataframe\">\n",
              "  <thead>\n",
              "    <tr style=\"text-align: right;\">\n",
              "      <th></th>\n",
              "      <th>Log_Price</th>\n",
              "    </tr>\n",
              "  </thead>\n",
              "  <tbody>\n",
              "    <tr>\n",
              "      <th>count</th>\n",
              "      <td>3934.000000</td>\n",
              "    </tr>\n",
              "    <tr>\n",
              "      <th>mean</th>\n",
              "      <td>9.389984</td>\n",
              "    </tr>\n",
              "    <tr>\n",
              "      <th>std</th>\n",
              "      <td>0.877504</td>\n",
              "    </tr>\n",
              "    <tr>\n",
              "      <th>min</th>\n",
              "      <td>7.207860</td>\n",
              "    </tr>\n",
              "    <tr>\n",
              "      <th>25%</th>\n",
              "      <td>8.853665</td>\n",
              "    </tr>\n",
              "    <tr>\n",
              "      <th>50%</th>\n",
              "      <td>9.350102</td>\n",
              "    </tr>\n",
              "    <tr>\n",
              "      <th>75%</th>\n",
              "      <td>9.952278</td>\n",
              "    </tr>\n",
              "    <tr>\n",
              "      <th>max</th>\n",
              "      <td>11.686879</td>\n",
              "    </tr>\n",
              "  </tbody>\n",
              "</table>\n",
              "</div>"
            ],
            "text/plain": [
              "         Log_Price\n",
              "count  3934.000000\n",
              "mean      9.389984\n",
              "std       0.877504\n",
              "min       7.207860\n",
              "25%       8.853665\n",
              "50%       9.350102\n",
              "75%       9.952278\n",
              "max      11.686879"
            ]
          },
          "metadata": {
            "tags": []
          },
          "execution_count": 43
        }
      ]
    },
    {
      "cell_type": "markdown",
      "metadata": {
        "id": "gifQwAtqObdV",
        "colab_type": "text"
      },
      "source": [
        "---\n",
        "## Modelling data\n",
        "---"
      ]
    },
    {
      "cell_type": "markdown",
      "metadata": {
        "id": "AaTMXKnRQOmv",
        "colab_type": "text"
      },
      "source": [
        "### Verifying Multicollinearity Issues"
      ]
    },
    {
      "cell_type": "code",
      "metadata": {
        "id": "DK0gG69kPQ87",
        "colab_type": "code",
        "colab": {}
      },
      "source": [
        "from statsmodels.stats.outliers_influence import variance_inflation_factor\n",
        "from statsmodels.tools.tools import add_constant"
      ],
      "execution_count": 0,
      "outputs": []
    },
    {
      "cell_type": "code",
      "metadata": {
        "id": "K_yz_eliMiOc",
        "colab_type": "code",
        "colab": {
          "base_uri": "https://localhost:8080/",
          "height": 71
        },
        "outputId": "e82e5071-7625-4ea7-ca08-d65df3b2989b"
      },
      "source": [
        "x_VIF = add_constant(x_input)"
      ],
      "execution_count": 50,
      "outputs": [
        {
          "output_type": "stream",
          "text": [
            "/usr/local/lib/python3.6/dist-packages/numpy/core/fromnumeric.py:2389: FutureWarning: Method .ptp is deprecated and will be removed in a future version. Use numpy.ptp instead.\n",
            "  return ptp(axis=axis, out=out, **kwargs)\n"
          ],
          "name": "stderr"
        }
      ]
    },
    {
      "cell_type": "code",
      "metadata": {
        "id": "2m1NIYJAPpN_",
        "colab_type": "code",
        "colab": {
          "base_uri": "https://localhost:8080/",
          "height": 357
        },
        "outputId": "f696d843-2f59-471f-f6b7-48558041b4c6"
      },
      "source": [
        "pd.Series([variance_inflation_factor(x_VIF.values, i) \n",
        "               for i in range(x_VIF.shape[1])], \n",
        "              index=x_VIF.columns)"
      ],
      "execution_count": 52,
      "outputs": [
        {
          "output_type": "execute_result",
          "data": {
            "text/plain": [
              "const                  25.783873\n",
              "Year                    1.611136\n",
              "Log_Mileage             1.472137\n",
              "Log_EngineV             1.721624\n",
              "Brand_BMW               2.181572\n",
              "Brand_Mercedes-Benz     2.476188\n",
              "Brand_Mitsubishi        1.792812\n",
              "Brand_Renault           2.220365\n",
              "Brand_Toyota            2.149823\n",
              "Brand_Volkswagen        2.733034\n",
              "Body_hatch              1.699070\n",
              "Body_other              1.536383\n",
              "Body_sedan              2.421878\n",
              "Body_vagon              1.793788\n",
              "Body_van                2.282787\n",
              "Engine Type_Gas         1.489981\n",
              "Engine Type_Other       1.056639\n",
              "Engine Type_Petrol      1.587505\n",
              "Registration_yes        1.187808\n",
              "dtype: float64"
            ]
          },
          "metadata": {
            "tags": []
          },
          "execution_count": 52
        }
      ]
    },
    {
      "cell_type": "markdown",
      "metadata": {
        "id": "XD4q_5BmQNac",
        "colab_type": "text"
      },
      "source": [
        "> Conclusion:\n",
        "> No issue on multicollinearity"
      ]
    },
    {
      "cell_type": "markdown",
      "metadata": {
        "id": "AsJBQDhQQc67",
        "colab_type": "text"
      },
      "source": [
        "### Split Train Test Data"
      ]
    },
    {
      "cell_type": "code",
      "metadata": {
        "id": "bgYpTv0LQ0B_",
        "colab_type": "code",
        "colab": {}
      },
      "source": [
        "from sklearn.model_selection import train_test_split\n",
        "X_train, X_test, y_train, y_test = train_test_split(x_input, y_target, \n",
        "                                                    test_size=0.25, random_state=42)"
      ],
      "execution_count": 0,
      "outputs": []
    },
    {
      "cell_type": "code",
      "metadata": {
        "id": "5AgtD4-QRP2j",
        "colab_type": "code",
        "colab": {
          "base_uri": "https://localhost:8080/",
          "height": 334
        },
        "outputId": "8d080498-5a04-450f-c3b7-db2133f612aa"
      },
      "source": [
        "X_train.describe()"
      ],
      "execution_count": 54,
      "outputs": [
        {
          "output_type": "execute_result",
          "data": {
            "text/html": [
              "<div>\n",
              "<style scoped>\n",
              "    .dataframe tbody tr th:only-of-type {\n",
              "        vertical-align: middle;\n",
              "    }\n",
              "\n",
              "    .dataframe tbody tr th {\n",
              "        vertical-align: top;\n",
              "    }\n",
              "\n",
              "    .dataframe thead th {\n",
              "        text-align: right;\n",
              "    }\n",
              "</style>\n",
              "<table border=\"1\" class=\"dataframe\">\n",
              "  <thead>\n",
              "    <tr style=\"text-align: right;\">\n",
              "      <th></th>\n",
              "      <th>Year</th>\n",
              "      <th>Log_Mileage</th>\n",
              "      <th>Log_EngineV</th>\n",
              "      <th>Brand_BMW</th>\n",
              "      <th>Brand_Mercedes-Benz</th>\n",
              "      <th>Brand_Mitsubishi</th>\n",
              "      <th>Brand_Renault</th>\n",
              "      <th>Brand_Toyota</th>\n",
              "      <th>Brand_Volkswagen</th>\n",
              "      <th>Body_hatch</th>\n",
              "      <th>Body_other</th>\n",
              "      <th>Body_sedan</th>\n",
              "      <th>Body_vagon</th>\n",
              "      <th>Body_van</th>\n",
              "      <th>Engine Type_Gas</th>\n",
              "      <th>Engine Type_Other</th>\n",
              "      <th>Engine Type_Petrol</th>\n",
              "      <th>Registration_yes</th>\n",
              "    </tr>\n",
              "  </thead>\n",
              "  <tbody>\n",
              "    <tr>\n",
              "      <th>count</th>\n",
              "      <td>2950.000000</td>\n",
              "      <td>2950.000000</td>\n",
              "      <td>2950.000000</td>\n",
              "      <td>2950.000000</td>\n",
              "      <td>2950.000000</td>\n",
              "      <td>2950.000000</td>\n",
              "      <td>2950.000000</td>\n",
              "      <td>2950.000000</td>\n",
              "      <td>2950.000000</td>\n",
              "      <td>2950.000000</td>\n",
              "      <td>2950.000000</td>\n",
              "      <td>2950.000000</td>\n",
              "      <td>2950.000000</td>\n",
              "      <td>2950.000000</td>\n",
              "      <td>2950.000000</td>\n",
              "      <td>2950.000000</td>\n",
              "      <td>2950.000000</td>\n",
              "      <td>2950.00000</td>\n",
              "    </tr>\n",
              "    <tr>\n",
              "      <th>mean</th>\n",
              "      <td>0.011028</td>\n",
              "      <td>0.002063</td>\n",
              "      <td>-0.004716</td>\n",
              "      <td>0.163051</td>\n",
              "      <td>0.195932</td>\n",
              "      <td>0.077627</td>\n",
              "      <td>0.111864</td>\n",
              "      <td>0.128475</td>\n",
              "      <td>0.216949</td>\n",
              "      <td>0.065085</td>\n",
              "      <td>0.096610</td>\n",
              "      <td>0.376610</td>\n",
              "      <td>0.096949</td>\n",
              "      <td>0.161695</td>\n",
              "      <td>0.141695</td>\n",
              "      <td>0.025424</td>\n",
              "      <td>0.357288</td>\n",
              "      <td>0.91322</td>\n",
              "    </tr>\n",
              "    <tr>\n",
              "      <th>std</th>\n",
              "      <td>0.997522</td>\n",
              "      <td>0.987487</td>\n",
              "      <td>0.991078</td>\n",
              "      <td>0.369475</td>\n",
              "      <td>0.396984</td>\n",
              "      <td>0.267629</td>\n",
              "      <td>0.315253</td>\n",
              "      <td>0.334674</td>\n",
              "      <td>0.412238</td>\n",
              "      <td>0.246717</td>\n",
              "      <td>0.295476</td>\n",
              "      <td>0.484618</td>\n",
              "      <td>0.295939</td>\n",
              "      <td>0.368233</td>\n",
              "      <td>0.348796</td>\n",
              "      <td>0.157435</td>\n",
              "      <td>0.479282</td>\n",
              "      <td>0.28156</td>\n",
              "    </tr>\n",
              "    <tr>\n",
              "      <th>min</th>\n",
              "      <td>-4.065612</td>\n",
              "      <td>-3.572929</td>\n",
              "      <td>-2.975609</td>\n",
              "      <td>0.000000</td>\n",
              "      <td>0.000000</td>\n",
              "      <td>0.000000</td>\n",
              "      <td>0.000000</td>\n",
              "      <td>0.000000</td>\n",
              "      <td>0.000000</td>\n",
              "      <td>0.000000</td>\n",
              "      <td>0.000000</td>\n",
              "      <td>0.000000</td>\n",
              "      <td>0.000000</td>\n",
              "      <td>0.000000</td>\n",
              "      <td>0.000000</td>\n",
              "      <td>0.000000</td>\n",
              "      <td>0.000000</td>\n",
              "      <td>0.00000</td>\n",
              "    </tr>\n",
              "    <tr>\n",
              "      <th>25%</th>\n",
              "      <td>-0.522592</td>\n",
              "      <td>-0.117292</td>\n",
              "      <td>-0.709608</td>\n",
              "      <td>0.000000</td>\n",
              "      <td>0.000000</td>\n",
              "      <td>0.000000</td>\n",
              "      <td>0.000000</td>\n",
              "      <td>0.000000</td>\n",
              "      <td>0.000000</td>\n",
              "      <td>0.000000</td>\n",
              "      <td>0.000000</td>\n",
              "      <td>0.000000</td>\n",
              "      <td>0.000000</td>\n",
              "      <td>0.000000</td>\n",
              "      <td>0.000000</td>\n",
              "      <td>0.000000</td>\n",
              "      <td>0.000000</td>\n",
              "      <td>1.00000</td>\n",
              "    </tr>\n",
              "    <tr>\n",
              "      <th>50%</th>\n",
              "      <td>0.247630</td>\n",
              "      <td>0.280088</td>\n",
              "      <td>-0.168912</td>\n",
              "      <td>0.000000</td>\n",
              "      <td>0.000000</td>\n",
              "      <td>0.000000</td>\n",
              "      <td>0.000000</td>\n",
              "      <td>0.000000</td>\n",
              "      <td>0.000000</td>\n",
              "      <td>0.000000</td>\n",
              "      <td>0.000000</td>\n",
              "      <td>0.000000</td>\n",
              "      <td>0.000000</td>\n",
              "      <td>0.000000</td>\n",
              "      <td>0.000000</td>\n",
              "      <td>0.000000</td>\n",
              "      <td>0.000000</td>\n",
              "      <td>1.00000</td>\n",
              "    </tr>\n",
              "    <tr>\n",
              "      <th>75%</th>\n",
              "      <td>0.863808</td>\n",
              "      <td>0.566582</td>\n",
              "      <td>0.734643</td>\n",
              "      <td>0.000000</td>\n",
              "      <td>0.000000</td>\n",
              "      <td>0.000000</td>\n",
              "      <td>0.000000</td>\n",
              "      <td>0.000000</td>\n",
              "      <td>0.000000</td>\n",
              "      <td>0.000000</td>\n",
              "      <td>0.000000</td>\n",
              "      <td>1.000000</td>\n",
              "      <td>0.000000</td>\n",
              "      <td>0.000000</td>\n",
              "      <td>0.000000</td>\n",
              "      <td>0.000000</td>\n",
              "      <td>1.000000</td>\n",
              "      <td>1.00000</td>\n",
              "    </tr>\n",
              "    <tr>\n",
              "      <th>max</th>\n",
              "      <td>1.479985</td>\n",
              "      <td>1.521784</td>\n",
              "      <td>4.444895</td>\n",
              "      <td>1.000000</td>\n",
              "      <td>1.000000</td>\n",
              "      <td>1.000000</td>\n",
              "      <td>1.000000</td>\n",
              "      <td>1.000000</td>\n",
              "      <td>1.000000</td>\n",
              "      <td>1.000000</td>\n",
              "      <td>1.000000</td>\n",
              "      <td>1.000000</td>\n",
              "      <td>1.000000</td>\n",
              "      <td>1.000000</td>\n",
              "      <td>1.000000</td>\n",
              "      <td>1.000000</td>\n",
              "      <td>1.000000</td>\n",
              "      <td>1.00000</td>\n",
              "    </tr>\n",
              "  </tbody>\n",
              "</table>\n",
              "</div>"
            ],
            "text/plain": [
              "              Year  Log_Mileage  ...  Engine Type_Petrol  Registration_yes\n",
              "count  2950.000000  2950.000000  ...         2950.000000        2950.00000\n",
              "mean      0.011028     0.002063  ...            0.357288           0.91322\n",
              "std       0.997522     0.987487  ...            0.479282           0.28156\n",
              "min      -4.065612    -3.572929  ...            0.000000           0.00000\n",
              "25%      -0.522592    -0.117292  ...            0.000000           1.00000\n",
              "50%       0.247630     0.280088  ...            0.000000           1.00000\n",
              "75%       0.863808     0.566582  ...            1.000000           1.00000\n",
              "max       1.479985     1.521784  ...            1.000000           1.00000\n",
              "\n",
              "[8 rows x 18 columns]"
            ]
          },
          "metadata": {
            "tags": []
          },
          "execution_count": 54
        }
      ]
    },
    {
      "cell_type": "code",
      "metadata": {
        "id": "Wsnfkml5RUFi",
        "colab_type": "code",
        "colab": {
          "base_uri": "https://localhost:8080/",
          "height": 334
        },
        "outputId": "31ddffc9-9e9b-41b9-bd19-513b2a60c463"
      },
      "source": [
        "X_test.describe()"
      ],
      "execution_count": 55,
      "outputs": [
        {
          "output_type": "execute_result",
          "data": {
            "text/html": [
              "<div>\n",
              "<style scoped>\n",
              "    .dataframe tbody tr th:only-of-type {\n",
              "        vertical-align: middle;\n",
              "    }\n",
              "\n",
              "    .dataframe tbody tr th {\n",
              "        vertical-align: top;\n",
              "    }\n",
              "\n",
              "    .dataframe thead th {\n",
              "        text-align: right;\n",
              "    }\n",
              "</style>\n",
              "<table border=\"1\" class=\"dataframe\">\n",
              "  <thead>\n",
              "    <tr style=\"text-align: right;\">\n",
              "      <th></th>\n",
              "      <th>Year</th>\n",
              "      <th>Log_Mileage</th>\n",
              "      <th>Log_EngineV</th>\n",
              "      <th>Brand_BMW</th>\n",
              "      <th>Brand_Mercedes-Benz</th>\n",
              "      <th>Brand_Mitsubishi</th>\n",
              "      <th>Brand_Renault</th>\n",
              "      <th>Brand_Toyota</th>\n",
              "      <th>Brand_Volkswagen</th>\n",
              "      <th>Body_hatch</th>\n",
              "      <th>Body_other</th>\n",
              "      <th>Body_sedan</th>\n",
              "      <th>Body_vagon</th>\n",
              "      <th>Body_van</th>\n",
              "      <th>Engine Type_Gas</th>\n",
              "      <th>Engine Type_Other</th>\n",
              "      <th>Engine Type_Petrol</th>\n",
              "      <th>Registration_yes</th>\n",
              "    </tr>\n",
              "  </thead>\n",
              "  <tbody>\n",
              "    <tr>\n",
              "      <th>count</th>\n",
              "      <td>984.000000</td>\n",
              "      <td>984.000000</td>\n",
              "      <td>984.000000</td>\n",
              "      <td>984.000000</td>\n",
              "      <td>984.000000</td>\n",
              "      <td>984.000000</td>\n",
              "      <td>984.000000</td>\n",
              "      <td>984.000000</td>\n",
              "      <td>984.000000</td>\n",
              "      <td>984.000000</td>\n",
              "      <td>984.000000</td>\n",
              "      <td>984.000000</td>\n",
              "      <td>984.000000</td>\n",
              "      <td>984.000000</td>\n",
              "      <td>984.000000</td>\n",
              "      <td>984.000000</td>\n",
              "      <td>984.000000</td>\n",
              "      <td>984.000000</td>\n",
              "    </tr>\n",
              "    <tr>\n",
              "      <th>mean</th>\n",
              "      <td>-0.033063</td>\n",
              "      <td>-0.006185</td>\n",
              "      <td>0.014137</td>\n",
              "      <td>0.153455</td>\n",
              "      <td>0.196138</td>\n",
              "      <td>0.077236</td>\n",
              "      <td>0.103659</td>\n",
              "      <td>0.127033</td>\n",
              "      <td>0.235772</td>\n",
              "      <td>0.072154</td>\n",
              "      <td>0.098577</td>\n",
              "      <td>0.395325</td>\n",
              "      <td>0.093496</td>\n",
              "      <td>0.141260</td>\n",
              "      <td>0.167683</td>\n",
              "      <td>0.027439</td>\n",
              "      <td>0.367886</td>\n",
              "      <td>0.892276</td>\n",
              "    </tr>\n",
              "    <tr>\n",
              "      <th>std</th>\n",
              "      <td>1.007683</td>\n",
              "      <td>1.037590</td>\n",
              "      <td>1.027162</td>\n",
              "      <td>0.360609</td>\n",
              "      <td>0.397276</td>\n",
              "      <td>0.267101</td>\n",
              "      <td>0.304972</td>\n",
              "      <td>0.333179</td>\n",
              "      <td>0.424696</td>\n",
              "      <td>0.258875</td>\n",
              "      <td>0.298245</td>\n",
              "      <td>0.489169</td>\n",
              "      <td>0.291274</td>\n",
              "      <td>0.348467</td>\n",
              "      <td>0.373774</td>\n",
              "      <td>0.163442</td>\n",
              "      <td>0.482475</td>\n",
              "      <td>0.310189</td>\n",
              "    </tr>\n",
              "    <tr>\n",
              "      <th>min</th>\n",
              "      <td>-3.449435</td>\n",
              "      <td>-3.572929</td>\n",
              "      <td>-2.072054</td>\n",
              "      <td>0.000000</td>\n",
              "      <td>0.000000</td>\n",
              "      <td>0.000000</td>\n",
              "      <td>0.000000</td>\n",
              "      <td>0.000000</td>\n",
              "      <td>0.000000</td>\n",
              "      <td>0.000000</td>\n",
              "      <td>0.000000</td>\n",
              "      <td>0.000000</td>\n",
              "      <td>0.000000</td>\n",
              "      <td>0.000000</td>\n",
              "      <td>0.000000</td>\n",
              "      <td>0.000000</td>\n",
              "      <td>0.000000</td>\n",
              "      <td>0.000000</td>\n",
              "    </tr>\n",
              "    <tr>\n",
              "      <th>25%</th>\n",
              "      <td>-0.676636</td>\n",
              "      <td>-0.101279</td>\n",
              "      <td>-0.709608</td>\n",
              "      <td>0.000000</td>\n",
              "      <td>0.000000</td>\n",
              "      <td>0.000000</td>\n",
              "      <td>0.000000</td>\n",
              "      <td>0.000000</td>\n",
              "      <td>0.000000</td>\n",
              "      <td>0.000000</td>\n",
              "      <td>0.000000</td>\n",
              "      <td>0.000000</td>\n",
              "      <td>0.000000</td>\n",
              "      <td>0.000000</td>\n",
              "      <td>0.000000</td>\n",
              "      <td>0.000000</td>\n",
              "      <td>0.000000</td>\n",
              "      <td>1.000000</td>\n",
              "    </tr>\n",
              "    <tr>\n",
              "      <th>50%</th>\n",
              "      <td>0.093586</td>\n",
              "      <td>0.291995</td>\n",
              "      <td>-0.168912</td>\n",
              "      <td>0.000000</td>\n",
              "      <td>0.000000</td>\n",
              "      <td>0.000000</td>\n",
              "      <td>0.000000</td>\n",
              "      <td>0.000000</td>\n",
              "      <td>0.000000</td>\n",
              "      <td>0.000000</td>\n",
              "      <td>0.000000</td>\n",
              "      <td>0.000000</td>\n",
              "      <td>0.000000</td>\n",
              "      <td>0.000000</td>\n",
              "      <td>0.000000</td>\n",
              "      <td>0.000000</td>\n",
              "      <td>0.000000</td>\n",
              "      <td>1.000000</td>\n",
              "    </tr>\n",
              "    <tr>\n",
              "      <th>75%</th>\n",
              "      <td>0.709763</td>\n",
              "      <td>0.569868</td>\n",
              "      <td>0.734643</td>\n",
              "      <td>0.000000</td>\n",
              "      <td>0.000000</td>\n",
              "      <td>0.000000</td>\n",
              "      <td>0.000000</td>\n",
              "      <td>0.000000</td>\n",
              "      <td>0.000000</td>\n",
              "      <td>0.000000</td>\n",
              "      <td>0.000000</td>\n",
              "      <td>1.000000</td>\n",
              "      <td>0.000000</td>\n",
              "      <td>0.000000</td>\n",
              "      <td>0.000000</td>\n",
              "      <td>0.000000</td>\n",
              "      <td>1.000000</td>\n",
              "      <td>1.000000</td>\n",
              "    </tr>\n",
              "    <tr>\n",
              "      <th>max</th>\n",
              "      <td>1.479985</td>\n",
              "      <td>1.666530</td>\n",
              "      <td>3.280010</td>\n",
              "      <td>1.000000</td>\n",
              "      <td>1.000000</td>\n",
              "      <td>1.000000</td>\n",
              "      <td>1.000000</td>\n",
              "      <td>1.000000</td>\n",
              "      <td>1.000000</td>\n",
              "      <td>1.000000</td>\n",
              "      <td>1.000000</td>\n",
              "      <td>1.000000</td>\n",
              "      <td>1.000000</td>\n",
              "      <td>1.000000</td>\n",
              "      <td>1.000000</td>\n",
              "      <td>1.000000</td>\n",
              "      <td>1.000000</td>\n",
              "      <td>1.000000</td>\n",
              "    </tr>\n",
              "  </tbody>\n",
              "</table>\n",
              "</div>"
            ],
            "text/plain": [
              "             Year  Log_Mileage  ...  Engine Type_Petrol  Registration_yes\n",
              "count  984.000000   984.000000  ...          984.000000        984.000000\n",
              "mean    -0.033063    -0.006185  ...            0.367886          0.892276\n",
              "std      1.007683     1.037590  ...            0.482475          0.310189\n",
              "min     -3.449435    -3.572929  ...            0.000000          0.000000\n",
              "25%     -0.676636    -0.101279  ...            0.000000          1.000000\n",
              "50%      0.093586     0.291995  ...            0.000000          1.000000\n",
              "75%      0.709763     0.569868  ...            1.000000          1.000000\n",
              "max      1.479985     1.666530  ...            1.000000          1.000000\n",
              "\n",
              "[8 rows x 18 columns]"
            ]
          },
          "metadata": {
            "tags": []
          },
          "execution_count": 55
        }
      ]
    },
    {
      "cell_type": "code",
      "metadata": {
        "id": "dncRgI-QRXYD",
        "colab_type": "code",
        "colab": {
          "base_uri": "https://localhost:8080/",
          "height": 297
        },
        "outputId": "6ee5a253-e226-464c-a9ac-468e1726d8ce"
      },
      "source": [
        "y_train.describe()"
      ],
      "execution_count": 56,
      "outputs": [
        {
          "output_type": "execute_result",
          "data": {
            "text/html": [
              "<div>\n",
              "<style scoped>\n",
              "    .dataframe tbody tr th:only-of-type {\n",
              "        vertical-align: middle;\n",
              "    }\n",
              "\n",
              "    .dataframe tbody tr th {\n",
              "        vertical-align: top;\n",
              "    }\n",
              "\n",
              "    .dataframe thead th {\n",
              "        text-align: right;\n",
              "    }\n",
              "</style>\n",
              "<table border=\"1\" class=\"dataframe\">\n",
              "  <thead>\n",
              "    <tr style=\"text-align: right;\">\n",
              "      <th></th>\n",
              "      <th>Log_Price</th>\n",
              "    </tr>\n",
              "  </thead>\n",
              "  <tbody>\n",
              "    <tr>\n",
              "      <th>count</th>\n",
              "      <td>2950.000000</td>\n",
              "    </tr>\n",
              "    <tr>\n",
              "      <th>mean</th>\n",
              "      <td>9.398021</td>\n",
              "    </tr>\n",
              "    <tr>\n",
              "      <th>std</th>\n",
              "      <td>0.872518</td>\n",
              "    </tr>\n",
              "    <tr>\n",
              "      <th>min</th>\n",
              "      <td>7.207860</td>\n",
              "    </tr>\n",
              "    <tr>\n",
              "      <th>25%</th>\n",
              "      <td>8.853665</td>\n",
              "    </tr>\n",
              "    <tr>\n",
              "      <th>50%</th>\n",
              "      <td>9.350102</td>\n",
              "    </tr>\n",
              "    <tr>\n",
              "      <th>75%</th>\n",
              "      <td>9.965286</td>\n",
              "    </tr>\n",
              "    <tr>\n",
              "      <th>max</th>\n",
              "      <td>11.686879</td>\n",
              "    </tr>\n",
              "  </tbody>\n",
              "</table>\n",
              "</div>"
            ],
            "text/plain": [
              "         Log_Price\n",
              "count  2950.000000\n",
              "mean      9.398021\n",
              "std       0.872518\n",
              "min       7.207860\n",
              "25%       8.853665\n",
              "50%       9.350102\n",
              "75%       9.965286\n",
              "max      11.686879"
            ]
          },
          "metadata": {
            "tags": []
          },
          "execution_count": 56
        }
      ]
    },
    {
      "cell_type": "code",
      "metadata": {
        "id": "64cvGP0ARcyy",
        "colab_type": "code",
        "colab": {
          "base_uri": "https://localhost:8080/",
          "height": 297
        },
        "outputId": "1ecd45b3-3142-4856-cb31-606cca55b0bd"
      },
      "source": [
        "y_test.describe()"
      ],
      "execution_count": 57,
      "outputs": [
        {
          "output_type": "execute_result",
          "data": {
            "text/html": [
              "<div>\n",
              "<style scoped>\n",
              "    .dataframe tbody tr th:only-of-type {\n",
              "        vertical-align: middle;\n",
              "    }\n",
              "\n",
              "    .dataframe tbody tr th {\n",
              "        vertical-align: top;\n",
              "    }\n",
              "\n",
              "    .dataframe thead th {\n",
              "        text-align: right;\n",
              "    }\n",
              "</style>\n",
              "<table border=\"1\" class=\"dataframe\">\n",
              "  <thead>\n",
              "    <tr style=\"text-align: right;\">\n",
              "      <th></th>\n",
              "      <th>Log_Price</th>\n",
              "    </tr>\n",
              "  </thead>\n",
              "  <tbody>\n",
              "    <tr>\n",
              "      <th>count</th>\n",
              "      <td>984.000000</td>\n",
              "    </tr>\n",
              "    <tr>\n",
              "      <th>mean</th>\n",
              "      <td>9.365889</td>\n",
              "    </tr>\n",
              "    <tr>\n",
              "      <th>std</th>\n",
              "      <td>0.892299</td>\n",
              "    </tr>\n",
              "    <tr>\n",
              "      <th>min</th>\n",
              "      <td>7.236339</td>\n",
              "    </tr>\n",
              "    <tr>\n",
              "      <th>25%</th>\n",
              "      <td>8.835518</td>\n",
              "    </tr>\n",
              "    <tr>\n",
              "      <th>50%</th>\n",
              "      <td>9.328114</td>\n",
              "    </tr>\n",
              "    <tr>\n",
              "      <th>75%</th>\n",
              "      <td>9.928180</td>\n",
              "    </tr>\n",
              "    <tr>\n",
              "      <th>max</th>\n",
              "      <td>11.652687</td>\n",
              "    </tr>\n",
              "  </tbody>\n",
              "</table>\n",
              "</div>"
            ],
            "text/plain": [
              "        Log_Price\n",
              "count  984.000000\n",
              "mean     9.365889\n",
              "std      0.892299\n",
              "min      7.236339\n",
              "25%      8.835518\n",
              "50%      9.328114\n",
              "75%      9.928180\n",
              "max     11.652687"
            ]
          },
          "metadata": {
            "tags": []
          },
          "execution_count": 57
        }
      ]
    },
    {
      "cell_type": "markdown",
      "metadata": {
        "id": "CGzi6Y9aSNWK",
        "colab_type": "text"
      },
      "source": [
        "### Fitting the regression"
      ]
    },
    {
      "cell_type": "code",
      "metadata": {
        "id": "38_FLy_9XOHL",
        "colab_type": "code",
        "colab": {
          "base_uri": "https://localhost:8080/",
          "height": 173
        },
        "outputId": "18c068bd-1b95-4d5e-e047-cad31db40e90"
      },
      "source": [
        "pip install -U statsmodels"
      ],
      "execution_count": 103,
      "outputs": [
        {
          "output_type": "stream",
          "text": [
            "Requirement already up-to-date: statsmodels in /usr/local/lib/python3.6/dist-packages (0.10.0)\n",
            "Requirement already satisfied, skipping upgrade: numpy>=1.11 in /usr/local/lib/python3.6/dist-packages (from statsmodels) (1.16.4)\n",
            "Requirement already satisfied, skipping upgrade: pandas>=0.19 in /usr/local/lib/python3.6/dist-packages (from statsmodels) (0.24.2)\n",
            "Requirement already satisfied, skipping upgrade: patsy>=0.4.0 in /usr/local/lib/python3.6/dist-packages (from statsmodels) (0.5.1)\n",
            "Requirement already satisfied, skipping upgrade: scipy>=0.18 in /usr/local/lib/python3.6/dist-packages (from statsmodels) (1.3.0)\n",
            "Requirement already satisfied, skipping upgrade: python-dateutil>=2.5.0 in /usr/local/lib/python3.6/dist-packages (from pandas>=0.19->statsmodels) (2.5.3)\n",
            "Requirement already satisfied, skipping upgrade: pytz>=2011k in /usr/local/lib/python3.6/dist-packages (from pandas>=0.19->statsmodels) (2018.9)\n",
            "Requirement already satisfied, skipping upgrade: six in /usr/local/lib/python3.6/dist-packages (from patsy>=0.4.0->statsmodels) (1.12.0)\n"
          ],
          "name": "stdout"
        }
      ]
    },
    {
      "cell_type": "code",
      "metadata": {
        "id": "uWJVWatkSw42",
        "colab_type": "code",
        "colab": {}
      },
      "source": [
        "import statsmodels.api as sm"
      ],
      "execution_count": 0,
      "outputs": []
    },
    {
      "cell_type": "code",
      "metadata": {
        "id": "D0wdHz9CW_iv",
        "colab_type": "code",
        "colab": {
          "base_uri": "https://localhost:8080/",
          "height": 85
        },
        "outputId": "be8972b0-f2b7-44cb-e8d5-d1d68d73c98a"
      },
      "source": [
        "X_train_c = add_constant(X_train)"
      ],
      "execution_count": 105,
      "outputs": [
        {
          "output_type": "stream",
          "text": [
            "/usr/local/lib/python3.6/dist-packages/numpy/core/fromnumeric.py:2389: FutureWarning:\n",
            "\n",
            "Method .ptp is deprecated and will be removed in a future version. Use numpy.ptp instead.\n",
            "\n"
          ],
          "name": "stderr"
        }
      ]
    },
    {
      "cell_type": "code",
      "metadata": {
        "id": "7-yIm5YfTDT6",
        "colab_type": "code",
        "colab": {}
      },
      "source": [
        "model = sm.OLS(y_train,X_train_c)"
      ],
      "execution_count": 0,
      "outputs": []
    },
    {
      "cell_type": "code",
      "metadata": {
        "id": "zY0fFgrIXYJk",
        "colab_type": "code",
        "colab": {}
      },
      "source": [
        "results = model.fit()"
      ],
      "execution_count": 0,
      "outputs": []
    },
    {
      "cell_type": "code",
      "metadata": {
        "id": "TG_TwCZ5XcXl",
        "colab_type": "code",
        "colab": {
          "base_uri": "https://localhost:8080/",
          "height": 731
        },
        "outputId": "34e7d65f-aa52-4dc3-e69b-a467a21d20b8"
      },
      "source": [
        "print(results.summary())"
      ],
      "execution_count": 119,
      "outputs": [
        {
          "output_type": "stream",
          "text": [
            "                            OLS Regression Results                            \n",
            "==============================================================================\n",
            "Dep. Variable:              Log_Price   R-squared:                       0.888\n",
            "Model:                            OLS   Adj. R-squared:                  0.887\n",
            "Method:                 Least Squares   F-statistic:                     1291.\n",
            "Date:                Wed, 10 Jul 2019   Prob (F-statistic):               0.00\n",
            "Time:                        15:00:22   Log-Likelihood:                -553.95\n",
            "No. Observations:                2950   AIC:                             1146.\n",
            "Df Residuals:                    2931   BIC:                             1260.\n",
            "Df Model:                          18                                         \n",
            "Covariance Type:            nonrobust                                         \n",
            "=======================================================================================\n",
            "                          coef    std err          t      P>|t|      [0.025      0.975]\n",
            "---------------------------------------------------------------------------------------\n",
            "const                   9.0257      0.028    324.123      0.000       8.971       9.080\n",
            "Year                    0.5429      0.007     79.185      0.000       0.529       0.556\n",
            "Log_Mileage            -0.1061      0.007    -16.016      0.000      -0.119      -0.093\n",
            "Log_EngineV             0.2328      0.007     33.004      0.000       0.219       0.247\n",
            "Brand_BMW               0.0719      0.022      3.318      0.001       0.029       0.114\n",
            "Brand_Mercedes-Benz     0.0051      0.021      0.237      0.812      -0.037       0.047\n",
            "Brand_Mitsubishi       -0.4514      0.027    -16.750      0.000      -0.504      -0.399\n",
            "Brand_Renault          -0.5641      0.026    -21.977      0.000      -0.614      -0.514\n",
            "Brand_Toyota           -0.1910      0.024     -8.077      0.000      -0.237      -0.145\n",
            "Brand_Volkswagen       -0.2209      0.022    -10.250      0.000      -0.263      -0.179\n",
            "Body_hatch             -0.3158      0.028    -11.159      0.000      -0.371      -0.260\n",
            "Body_other             -0.2342      0.023    -10.349      0.000      -0.279      -0.190\n",
            "Body_sedan             -0.2916      0.017    -16.919      0.000      -0.325      -0.258\n",
            "Body_vagon             -0.3140      0.024    -12.954      0.000      -0.362      -0.266\n",
            "Body_van               -0.4091      0.022    -18.476      0.000      -0.453      -0.366\n",
            "Engine Type_Gas        -0.0988      0.019     -5.244      0.000      -0.136      -0.062\n",
            "Engine Type_Other      -0.0829      0.035     -2.350      0.019      -0.152      -0.014\n",
            "Engine Type_Petrol     -0.0593      0.014     -4.187      0.000      -0.087      -0.032\n",
            "Registration_yes        0.8896      0.021     42.901      0.000       0.849       0.930\n",
            "==============================================================================\n",
            "Omnibus:                      324.291   Durbin-Watson:                   1.957\n",
            "Prob(Omnibus):                  0.000   Jarque-Bera (JB):             2281.629\n",
            "Skew:                          -0.260   Prob(JB):                         0.00\n",
            "Kurtosis:                       7.277   Cond. No.                         14.3\n",
            "==============================================================================\n",
            "\n",
            "Warnings:\n",
            "[1] Standard Errors assume that the covariance matrix of the errors is correctly specified.\n"
          ],
          "name": "stdout"
        }
      ]
    },
    {
      "cell_type": "markdown",
      "metadata": {
        "id": "EkkXYmVEXrGK",
        "colab_type": "text"
      },
      "source": [
        "### Assessing performance on test data with simplest plot"
      ]
    },
    {
      "cell_type": "code",
      "metadata": {
        "id": "4xMe3wVFX7KK",
        "colab_type": "code",
        "colab": {
          "base_uri": "https://localhost:8080/",
          "height": 85
        },
        "outputId": "0efa3b79-6cbb-4e0a-f363-e3d9dac2f957"
      },
      "source": [
        "X_test_c = add_constant(X_test)\n",
        "y_test_pred = pd.DataFrame({'y_pred':results.predict(X_test_c)})"
      ],
      "execution_count": 120,
      "outputs": [
        {
          "output_type": "stream",
          "text": [
            "/usr/local/lib/python3.6/dist-packages/numpy/core/fromnumeric.py:2389: FutureWarning:\n",
            "\n",
            "Method .ptp is deprecated and will be removed in a future version. Use numpy.ptp instead.\n",
            "\n"
          ],
          "name": "stderr"
        }
      ]
    },
    {
      "cell_type": "code",
      "metadata": {
        "id": "RmEBR10zbcwr",
        "colab_type": "code",
        "colab": {}
      },
      "source": [
        "y_test_pred_1 = y_test_pred.reset_index(drop=True)\n",
        "y_test_real_1 = y_test.reset_index(drop=True)"
      ],
      "execution_count": 0,
      "outputs": []
    },
    {
      "cell_type": "code",
      "metadata": {
        "id": "QXx8MlvIXvnc",
        "colab_type": "code",
        "colab": {
          "base_uri": "https://localhost:8080/",
          "height": 302
        },
        "outputId": "6ad68cf8-8a0c-41f4-d033-ffe9336fffb1"
      },
      "source": [
        "sns.scatterplot(y_test_pred_1['y_pred'],y_test_real_1['Log_Price'])"
      ],
      "execution_count": 139,
      "outputs": [
        {
          "output_type": "execute_result",
          "data": {
            "text/plain": [
              "<matplotlib.axes._subplots.AxesSubplot at 0x7f03cbfe05f8>"
            ]
          },
          "metadata": {
            "tags": []
          },
          "execution_count": 139
        },
        {
          "output_type": "display_data",
          "data": {
            "image/png": "[encoded data removed]",
            "text/plain": [
              "<Figure size 432x288 with 1 Axes>"
            ]
          },
          "metadata": {
            "tags": []
          }
        }
      ]
    }
  ]
}